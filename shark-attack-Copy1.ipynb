{
 "cells": [
  {
   "cell_type": "markdown",
   "metadata": {
    "ExecuteTime": {
     "end_time": "2021-01-22T20:38:16.171068Z",
     "start_time": "2021-01-22T20:38:16.168069Z"
    }
   },
   "source": [
    "# Importing relevant libraries"
   ]
  },
  {
   "cell_type": "code",
   "execution_count": 6,
   "metadata": {
    "ExecuteTime": {
     "end_time": "2021-01-28T21:12:42.573392Z",
     "start_time": "2021-01-28T21:12:39.063496Z"
    }
   },
   "outputs": [],
   "source": [
    "import pandas as pd\n",
    "import numpy as np\n",
    "import re"
   ]
  },
  {
   "cell_type": "markdown",
   "metadata": {},
   "source": [
    "# Importing data"
   ]
  },
  {
   "cell_type": "code",
   "execution_count": 7,
   "metadata": {
    "ExecuteTime": {
     "end_time": "2021-01-28T21:12:42.958864Z",
     "start_time": "2021-01-28T21:12:42.588981Z"
    }
   },
   "outputs": [],
   "source": [
    "shark_attacks = pd.read_csv('C:/Users/pfaprado/Documents/IronHack/2021-01-22-project-shark-attack/attacks.csv', encoding='latin1')"
   ]
  },
  {
   "cell_type": "markdown",
   "metadata": {},
   "source": [
    "# Preliminary analysis of data"
   ]
  },
  {
   "cell_type": "code",
   "execution_count": 8,
   "metadata": {
    "ExecuteTime": {
     "end_time": "2021-01-28T21:12:43.128145Z",
     "start_time": "2021-01-28T21:12:43.027874Z"
    },
    "scrolled": false
   },
   "outputs": [
    {
     "data": {
      "text/html": [
       "<div>\n",
       "<style scoped>\n",
       "    .dataframe tbody tr th:only-of-type {\n",
       "        vertical-align: middle;\n",
       "    }\n",
       "\n",
       "    .dataframe tbody tr th {\n",
       "        vertical-align: top;\n",
       "    }\n",
       "\n",
       "    .dataframe thead th {\n",
       "        text-align: right;\n",
       "    }\n",
       "</style>\n",
       "<table border=\"1\" class=\"dataframe\">\n",
       "  <thead>\n",
       "    <tr style=\"text-align: right;\">\n",
       "      <th></th>\n",
       "      <th>Case Number</th>\n",
       "      <th>Date</th>\n",
       "      <th>Year</th>\n",
       "      <th>Type</th>\n",
       "      <th>Country</th>\n",
       "      <th>Area</th>\n",
       "      <th>Location</th>\n",
       "      <th>Activity</th>\n",
       "      <th>Name</th>\n",
       "      <th>Sex</th>\n",
       "      <th>Age</th>\n",
       "      <th>Injury</th>\n",
       "      <th>Fatal (Y/N)</th>\n",
       "      <th>Time</th>\n",
       "      <th>Species</th>\n",
       "      <th>Investigator or Source</th>\n",
       "      <th>pdf</th>\n",
       "      <th>href formula</th>\n",
       "      <th>href</th>\n",
       "      <th>Case Number.1</th>\n",
       "      <th>Case Number.2</th>\n",
       "      <th>original order</th>\n",
       "      <th>Unnamed: 22</th>\n",
       "      <th>Unnamed: 23</th>\n",
       "    </tr>\n",
       "  </thead>\n",
       "  <tbody>\n",
       "    <tr>\n",
       "      <th>0</th>\n",
       "      <td>2018.06.25</td>\n",
       "      <td>25-Jun-2018</td>\n",
       "      <td>2018.0</td>\n",
       "      <td>Boating</td>\n",
       "      <td>USA</td>\n",
       "      <td>California</td>\n",
       "      <td>Oceanside, San Diego County</td>\n",
       "      <td>Paddling</td>\n",
       "      <td>Julie Wolfe</td>\n",
       "      <td>F</td>\n",
       "      <td>57</td>\n",
       "      <td>No injury to occupant, outrigger canoe and pad...</td>\n",
       "      <td>N</td>\n",
       "      <td>18h00</td>\n",
       "      <td>White shark</td>\n",
       "      <td>R. Collier, GSAF</td>\n",
       "      <td>2018.06.25-Wolfe.pdf</td>\n",
       "      <td>http://sharkattackfile.net/spreadsheets/pdf_di...</td>\n",
       "      <td>http://sharkattackfile.net/spreadsheets/pdf_di...</td>\n",
       "      <td>2018.06.25</td>\n",
       "      <td>2018.06.25</td>\n",
       "      <td>6303.0</td>\n",
       "      <td>NaN</td>\n",
       "      <td>NaN</td>\n",
       "    </tr>\n",
       "    <tr>\n",
       "      <th>1</th>\n",
       "      <td>2018.06.18</td>\n",
       "      <td>18-Jun-2018</td>\n",
       "      <td>2018.0</td>\n",
       "      <td>Unprovoked</td>\n",
       "      <td>USA</td>\n",
       "      <td>Georgia</td>\n",
       "      <td>St. Simon Island, Glynn County</td>\n",
       "      <td>Standing</td>\n",
       "      <td>Adyson McNeely</td>\n",
       "      <td>F</td>\n",
       "      <td>11</td>\n",
       "      <td>Minor injury to left thigh</td>\n",
       "      <td>N</td>\n",
       "      <td>14h00  -15h00</td>\n",
       "      <td>NaN</td>\n",
       "      <td>K.McMurray, TrackingSharks.com</td>\n",
       "      <td>2018.06.18-McNeely.pdf</td>\n",
       "      <td>http://sharkattackfile.net/spreadsheets/pdf_di...</td>\n",
       "      <td>http://sharkattackfile.net/spreadsheets/pdf_di...</td>\n",
       "      <td>2018.06.18</td>\n",
       "      <td>2018.06.18</td>\n",
       "      <td>6302.0</td>\n",
       "      <td>NaN</td>\n",
       "      <td>NaN</td>\n",
       "    </tr>\n",
       "    <tr>\n",
       "      <th>2</th>\n",
       "      <td>2018.06.09</td>\n",
       "      <td>09-Jun-2018</td>\n",
       "      <td>2018.0</td>\n",
       "      <td>Invalid</td>\n",
       "      <td>USA</td>\n",
       "      <td>Hawaii</td>\n",
       "      <td>Habush, Oahu</td>\n",
       "      <td>Surfing</td>\n",
       "      <td>John Denges</td>\n",
       "      <td>M</td>\n",
       "      <td>48</td>\n",
       "      <td>Injury to left lower leg from surfboard skeg</td>\n",
       "      <td>N</td>\n",
       "      <td>07h45</td>\n",
       "      <td>NaN</td>\n",
       "      <td>K.McMurray, TrackingSharks.com</td>\n",
       "      <td>2018.06.09-Denges.pdf</td>\n",
       "      <td>http://sharkattackfile.net/spreadsheets/pdf_di...</td>\n",
       "      <td>http://sharkattackfile.net/spreadsheets/pdf_di...</td>\n",
       "      <td>2018.06.09</td>\n",
       "      <td>2018.06.09</td>\n",
       "      <td>6301.0</td>\n",
       "      <td>NaN</td>\n",
       "      <td>NaN</td>\n",
       "    </tr>\n",
       "    <tr>\n",
       "      <th>3</th>\n",
       "      <td>2018.06.08</td>\n",
       "      <td>08-Jun-2018</td>\n",
       "      <td>2018.0</td>\n",
       "      <td>Unprovoked</td>\n",
       "      <td>AUSTRALIA</td>\n",
       "      <td>New South Wales</td>\n",
       "      <td>Arrawarra Headland</td>\n",
       "      <td>Surfing</td>\n",
       "      <td>male</td>\n",
       "      <td>M</td>\n",
       "      <td>NaN</td>\n",
       "      <td>Minor injury to lower leg</td>\n",
       "      <td>N</td>\n",
       "      <td>NaN</td>\n",
       "      <td>2 m shark</td>\n",
       "      <td>B. Myatt, GSAF</td>\n",
       "      <td>2018.06.08-Arrawarra.pdf</td>\n",
       "      <td>http://sharkattackfile.net/spreadsheets/pdf_di...</td>\n",
       "      <td>http://sharkattackfile.net/spreadsheets/pdf_di...</td>\n",
       "      <td>2018.06.08</td>\n",
       "      <td>2018.06.08</td>\n",
       "      <td>6300.0</td>\n",
       "      <td>NaN</td>\n",
       "      <td>NaN</td>\n",
       "    </tr>\n",
       "    <tr>\n",
       "      <th>4</th>\n",
       "      <td>2018.06.04</td>\n",
       "      <td>04-Jun-2018</td>\n",
       "      <td>2018.0</td>\n",
       "      <td>Provoked</td>\n",
       "      <td>MEXICO</td>\n",
       "      <td>Colima</td>\n",
       "      <td>La Ticla</td>\n",
       "      <td>Free diving</td>\n",
       "      <td>Gustavo Ramos</td>\n",
       "      <td>M</td>\n",
       "      <td>NaN</td>\n",
       "      <td>Lacerations to leg &amp; hand shark PROVOKED INCIDENT</td>\n",
       "      <td>N</td>\n",
       "      <td>NaN</td>\n",
       "      <td>Tiger shark, 3m</td>\n",
       "      <td>A .Kipper</td>\n",
       "      <td>2018.06.04-Ramos.pdf</td>\n",
       "      <td>http://sharkattackfile.net/spreadsheets/pdf_di...</td>\n",
       "      <td>http://sharkattackfile.net/spreadsheets/pdf_di...</td>\n",
       "      <td>2018.06.04</td>\n",
       "      <td>2018.06.04</td>\n",
       "      <td>6299.0</td>\n",
       "      <td>NaN</td>\n",
       "      <td>NaN</td>\n",
       "    </tr>\n",
       "  </tbody>\n",
       "</table>\n",
       "</div>"
      ],
      "text/plain": [
       "  Case Number         Date    Year        Type    Country             Area  \\\n",
       "0  2018.06.25  25-Jun-2018  2018.0     Boating        USA       California   \n",
       "1  2018.06.18  18-Jun-2018  2018.0  Unprovoked        USA          Georgia   \n",
       "2  2018.06.09  09-Jun-2018  2018.0     Invalid        USA           Hawaii   \n",
       "3  2018.06.08  08-Jun-2018  2018.0  Unprovoked  AUSTRALIA  New South Wales   \n",
       "4  2018.06.04  04-Jun-2018  2018.0    Provoked     MEXICO           Colima   \n",
       "\n",
       "                         Location     Activity             Name Sex   Age  \\\n",
       "0     Oceanside, San Diego County     Paddling      Julie Wolfe    F   57   \n",
       "1  St. Simon Island, Glynn County     Standing  Adyson McNeely     F   11   \n",
       "2                    Habush, Oahu      Surfing      John Denges    M   48   \n",
       "3              Arrawarra Headland      Surfing             male    M  NaN   \n",
       "4                        La Ticla  Free diving   Gustavo Ramos     M  NaN   \n",
       "\n",
       "                                              Injury Fatal (Y/N)  \\\n",
       "0  No injury to occupant, outrigger canoe and pad...           N   \n",
       "1                         Minor injury to left thigh           N   \n",
       "2       Injury to left lower leg from surfboard skeg           N   \n",
       "3                          Minor injury to lower leg           N   \n",
       "4  Lacerations to leg & hand shark PROVOKED INCIDENT           N   \n",
       "\n",
       "            Time         Species           Investigator or Source  \\\n",
       "0          18h00      White shark                R. Collier, GSAF   \n",
       "1  14h00  -15h00              NaN  K.McMurray, TrackingSharks.com   \n",
       "2          07h45              NaN  K.McMurray, TrackingSharks.com   \n",
       "3            NaN        2 m shark                  B. Myatt, GSAF   \n",
       "4            NaN  Tiger shark, 3m                       A .Kipper   \n",
       "\n",
       "                        pdf  \\\n",
       "0      2018.06.25-Wolfe.pdf   \n",
       "1    2018.06.18-McNeely.pdf   \n",
       "2     2018.06.09-Denges.pdf   \n",
       "3  2018.06.08-Arrawarra.pdf   \n",
       "4      2018.06.04-Ramos.pdf   \n",
       "\n",
       "                                        href formula  \\\n",
       "0  http://sharkattackfile.net/spreadsheets/pdf_di...   \n",
       "1  http://sharkattackfile.net/spreadsheets/pdf_di...   \n",
       "2  http://sharkattackfile.net/spreadsheets/pdf_di...   \n",
       "3  http://sharkattackfile.net/spreadsheets/pdf_di...   \n",
       "4  http://sharkattackfile.net/spreadsheets/pdf_di...   \n",
       "\n",
       "                                                href Case Number.1  \\\n",
       "0  http://sharkattackfile.net/spreadsheets/pdf_di...    2018.06.25   \n",
       "1  http://sharkattackfile.net/spreadsheets/pdf_di...    2018.06.18   \n",
       "2  http://sharkattackfile.net/spreadsheets/pdf_di...    2018.06.09   \n",
       "3  http://sharkattackfile.net/spreadsheets/pdf_di...    2018.06.08   \n",
       "4  http://sharkattackfile.net/spreadsheets/pdf_di...    2018.06.04   \n",
       "\n",
       "  Case Number.2  original order Unnamed: 22 Unnamed: 23  \n",
       "0    2018.06.25          6303.0         NaN         NaN  \n",
       "1    2018.06.18          6302.0         NaN         NaN  \n",
       "2    2018.06.09          6301.0         NaN         NaN  \n",
       "3    2018.06.08          6300.0         NaN         NaN  \n",
       "4    2018.06.04          6299.0         NaN         NaN  "
      ]
     },
     "execution_count": 8,
     "metadata": {},
     "output_type": "execute_result"
    }
   ],
   "source": [
    "# Let's show all the columns available through a max_columns = None and a head method.\n",
    "\n",
    "pd.options.display.max_columns = None\n",
    "shark_attacks.head()"
   ]
  },
  {
   "cell_type": "markdown",
   "metadata": {
    "ExecuteTime": {
     "end_time": "2021-01-26T14:16:12.166995Z",
     "start_time": "2021-01-26T14:16:12.164011Z"
    }
   },
   "source": [
    "## Size of the dataframe"
   ]
  },
  {
   "cell_type": "code",
   "execution_count": 9,
   "metadata": {
    "ExecuteTime": {
     "end_time": "2021-01-28T21:12:43.174997Z",
     "start_time": "2021-01-28T21:12:43.159386Z"
    }
   },
   "outputs": [
    {
     "data": {
      "text/plain": [
       "617352"
      ]
     },
     "execution_count": 9,
     "metadata": {},
     "output_type": "execute_result"
    }
   ],
   "source": [
    "# Let's check the number of elements in our dataframe.\n",
    "\n",
    "shark_attacks.size\n",
    "\n",
    "# We have about 617352 elements."
   ]
  },
  {
   "cell_type": "markdown",
   "metadata": {},
   "source": [
    "## Shape of the dataframe"
   ]
  },
  {
   "cell_type": "code",
   "execution_count": 10,
   "metadata": {
    "ExecuteTime": {
     "end_time": "2021-01-28T21:12:43.275826Z",
     "start_time": "2021-01-28T21:12:43.206256Z"
    }
   },
   "outputs": [
    {
     "data": {
      "text/plain": [
       "(25723, 24)"
      ]
     },
     "execution_count": 10,
     "metadata": {},
     "output_type": "execute_result"
    }
   ],
   "source": [
    "# Let's check the shape of our dataframe.\n",
    "\n",
    "shark_attacks.shape\n",
    "\n",
    "# We have 24723 entries of 24 types of data. "
   ]
  },
  {
   "cell_type": "markdown",
   "metadata": {
    "ExecuteTime": {
     "end_time": "2021-01-26T14:16:55.590419Z",
     "start_time": "2021-01-26T14:16:55.588420Z"
    }
   },
   "source": [
    "## Null-count and data types of the dataframe"
   ]
  },
  {
   "cell_type": "code",
   "execution_count": 11,
   "metadata": {
    "ExecuteTime": {
     "end_time": "2021-01-28T21:12:43.428991Z",
     "start_time": "2021-01-28T21:12:43.307062Z"
    }
   },
   "outputs": [
    {
     "name": "stdout",
     "output_type": "stream",
     "text": [
      "<class 'pandas.core.frame.DataFrame'>\n",
      "RangeIndex: 25723 entries, 0 to 25722\n",
      "Data columns (total 24 columns):\n",
      " #   Column                  Non-Null Count  Dtype  \n",
      "---  ------                  --------------  -----  \n",
      " 0   Case Number             8702 non-null   object \n",
      " 1   Date                    6302 non-null   object \n",
      " 2   Year                    6300 non-null   float64\n",
      " 3   Type                    6298 non-null   object \n",
      " 4   Country                 6252 non-null   object \n",
      " 5   Area                    5847 non-null   object \n",
      " 6   Location                5762 non-null   object \n",
      " 7   Activity                5758 non-null   object \n",
      " 8   Name                    6092 non-null   object \n",
      " 9   Sex                     5737 non-null   object \n",
      " 10  Age                     3471 non-null   object \n",
      " 11  Injury                  6274 non-null   object \n",
      " 12  Fatal (Y/N)             5763 non-null   object \n",
      " 13  Time                    2948 non-null   object \n",
      " 14  Species                 3464 non-null   object \n",
      " 15  Investigator or Source  6285 non-null   object \n",
      " 16  pdf                     6302 non-null   object \n",
      " 17  href formula            6301 non-null   object \n",
      " 18  href                    6302 non-null   object \n",
      " 19  Case Number.1           6302 non-null   object \n",
      " 20  Case Number.2           6302 non-null   object \n",
      " 21  original order          6309 non-null   float64\n",
      " 22  Unnamed: 22             1 non-null      object \n",
      " 23  Unnamed: 23             2 non-null      object \n",
      "dtypes: float64(2), object(22)\n",
      "memory usage: 4.7+ MB\n"
     ]
    }
   ],
   "source": [
    "# Let's check the non-null count and type of our data.\n",
    "\n",
    "shark_attacks.info()\n",
    "\n",
    "# Too many data entries without many infos such as Age, Time, Sex, Fatal, etc. Last columns can't be used.\n",
    "# Year is a float64, should have been an integer.\n",
    "# Age should have been specified as integer."
   ]
  },
  {
   "cell_type": "code",
   "execution_count": 12,
   "metadata": {
    "ExecuteTime": {
     "end_time": "2021-01-28T21:12:43.478070Z",
     "start_time": "2021-01-28T21:12:43.461421Z"
    }
   },
   "outputs": [
    {
     "data": {
      "text/plain": [
       "Case Number                object\n",
       "Date                       object\n",
       "Year                      float64\n",
       "Type                       object\n",
       "Country                    object\n",
       "Area                       object\n",
       "Location                   object\n",
       "Activity                   object\n",
       "Name                       object\n",
       "Sex                        object\n",
       "Age                        object\n",
       "Injury                     object\n",
       "Fatal (Y/N)                object\n",
       "Time                       object\n",
       "Species                    object\n",
       "Investigator or Source     object\n",
       "pdf                        object\n",
       "href formula               object\n",
       "href                       object\n",
       "Case Number.1              object\n",
       "Case Number.2              object\n",
       "original order            float64\n",
       "Unnamed: 22                object\n",
       "Unnamed: 23                object\n",
       "dtype: object"
      ]
     },
     "execution_count": 12,
     "metadata": {},
     "output_type": "execute_result"
    }
   ],
   "source": [
    "# Specifically, about the types of data columns.\n",
    "\n",
    "shark_attacks.dtypes"
   ]
  },
  {
   "cell_type": "markdown",
   "metadata": {
    "ExecuteTime": {
     "end_time": "2021-01-26T14:17:53.284562Z",
     "start_time": "2021-01-26T14:17:53.280578Z"
    }
   },
   "source": [
    "## Columns of the dataframe"
   ]
  },
  {
   "cell_type": "code",
   "execution_count": 14,
   "metadata": {
    "ExecuteTime": {
     "end_time": "2021-01-28T21:13:29.273600Z",
     "start_time": "2021-01-28T21:13:29.258032Z"
    }
   },
   "outputs": [
    {
     "data": {
      "text/plain": [
       "Index(['Case Number', 'Date', 'Year', 'Type', 'Country', 'Area', 'Location',\n",
       "       'Activity', 'Name', 'Sex ', 'Age', 'Injury', 'Fatal (Y/N)', 'Time',\n",
       "       'Species ', 'Investigator or Source', 'pdf', 'href formula', 'href',\n",
       "       'Case Number.1', 'Case Number.2', 'original order', 'Unnamed: 22',\n",
       "       'Unnamed: 23'],\n",
       "      dtype='object')"
      ]
     },
     "execution_count": 14,
     "metadata": {},
     "output_type": "execute_result"
    }
   ],
   "source": [
    "# Let's check all the columns availables. There are a bunch of columns with strange names at the end.\n",
    "\n",
    "shark_attacks.columns"
   ]
  },
  {
   "cell_type": "code",
   "execution_count": 15,
   "metadata": {
    "ExecuteTime": {
     "end_time": "2021-01-28T21:13:31.912234Z",
     "start_time": "2021-01-28T21:13:31.880971Z"
    }
   },
   "outputs": [
    {
     "data": {
      "text/plain": [
       "Case Number               17021\n",
       "Date                      19421\n",
       "Year                      19423\n",
       "Type                      19425\n",
       "Country                   19471\n",
       "Area                      19876\n",
       "Location                  19961\n",
       "Activity                  19965\n",
       "Name                      19631\n",
       "Sex                       19986\n",
       "Age                       22252\n",
       "Injury                    19449\n",
       "Fatal (Y/N)               19960\n",
       "Time                      22775\n",
       "Species                   22259\n",
       "Investigator or Source    19438\n",
       "pdf                       19421\n",
       "href formula              19422\n",
       "href                      19421\n",
       "Case Number.1             19421\n",
       "Case Number.2             19421\n",
       "original order            19414\n",
       "Unnamed: 22               25722\n",
       "Unnamed: 23               25721\n",
       "dtype: int64"
      ]
     },
     "execution_count": 15,
     "metadata": {},
     "output_type": "execute_result"
    }
   ],
   "source": [
    "# Let's check how many nulls we have in our dataset in each column.\n",
    "\n",
    "null_cols = shark_attacks.isnull().sum()\n",
    "\n",
    "null_cols"
   ]
  },
  {
   "cell_type": "markdown",
   "metadata": {},
   "source": [
    "# Jaws Adventures: marketing shark feeding"
   ]
  },
  {
   "cell_type": "code",
   "execution_count": 16,
   "metadata": {
    "ExecuteTime": {
     "end_time": "2021-01-28T21:14:16.182647Z",
     "start_time": "2021-01-28T21:14:16.167024Z"
    }
   },
   "outputs": [
    {
     "data": {
      "text/html": [
       "<div>\n",
       "<style scoped>\n",
       "    .dataframe tbody tr th:only-of-type {\n",
       "        vertical-align: middle;\n",
       "    }\n",
       "\n",
       "    .dataframe tbody tr th {\n",
       "        vertical-align: top;\n",
       "    }\n",
       "\n",
       "    .dataframe thead th {\n",
       "        text-align: right;\n",
       "    }\n",
       "</style>\n",
       "<table border=\"1\" class=\"dataframe\">\n",
       "  <thead>\n",
       "    <tr style=\"text-align: right;\">\n",
       "      <th></th>\n",
       "      <th>Activity</th>\n",
       "      <th>Fatal (Y/N)</th>\n",
       "    </tr>\n",
       "  </thead>\n",
       "  <tbody>\n",
       "    <tr>\n",
       "      <th>0</th>\n",
       "      <td>Paddling</td>\n",
       "      <td>N</td>\n",
       "    </tr>\n",
       "    <tr>\n",
       "      <th>1</th>\n",
       "      <td>Standing</td>\n",
       "      <td>N</td>\n",
       "    </tr>\n",
       "    <tr>\n",
       "      <th>2</th>\n",
       "      <td>Surfing</td>\n",
       "      <td>N</td>\n",
       "    </tr>\n",
       "    <tr>\n",
       "      <th>3</th>\n",
       "      <td>Surfing</td>\n",
       "      <td>N</td>\n",
       "    </tr>\n",
       "    <tr>\n",
       "      <th>4</th>\n",
       "      <td>Free diving</td>\n",
       "      <td>N</td>\n",
       "    </tr>\n",
       "    <tr>\n",
       "      <th>...</th>\n",
       "      <td>...</td>\n",
       "      <td>...</td>\n",
       "    </tr>\n",
       "    <tr>\n",
       "      <th>25718</th>\n",
       "      <td>NaN</td>\n",
       "      <td>NaN</td>\n",
       "    </tr>\n",
       "    <tr>\n",
       "      <th>25719</th>\n",
       "      <td>NaN</td>\n",
       "      <td>NaN</td>\n",
       "    </tr>\n",
       "    <tr>\n",
       "      <th>25720</th>\n",
       "      <td>NaN</td>\n",
       "      <td>NaN</td>\n",
       "    </tr>\n",
       "    <tr>\n",
       "      <th>25721</th>\n",
       "      <td>NaN</td>\n",
       "      <td>NaN</td>\n",
       "    </tr>\n",
       "    <tr>\n",
       "      <th>25722</th>\n",
       "      <td>NaN</td>\n",
       "      <td>NaN</td>\n",
       "    </tr>\n",
       "  </tbody>\n",
       "</table>\n",
       "<p>25723 rows × 2 columns</p>\n",
       "</div>"
      ],
      "text/plain": [
       "          Activity Fatal (Y/N)\n",
       "0         Paddling           N\n",
       "1         Standing           N\n",
       "2          Surfing           N\n",
       "3          Surfing           N\n",
       "4      Free diving           N\n",
       "...            ...         ...\n",
       "25718          NaN         NaN\n",
       "25719          NaN         NaN\n",
       "25720          NaN         NaN\n",
       "25721          NaN         NaN\n",
       "25722          NaN         NaN\n",
       "\n",
       "[25723 rows x 2 columns]"
      ]
     },
     "execution_count": 16,
     "metadata": {},
     "output_type": "execute_result"
    }
   ],
   "source": [
    "\"\"\"\n",
    "Our company, \"Jaws Adventures\", offers scuba diving for people.\n",
    "We would like to analyse and market a new product: shark feeding.\n",
    "However people may express distress to the idea of feeding sharks and the risks involved.\n",
    "Let's analyse whether feeding sharks is safer than other activities already offered by our company.\n",
    "\"\"\"\n",
    "\n",
    "\"\"\"\n",
    "For this, we will need to pull the data from columns:\n",
    "- Activity (categorical)\n",
    "- Fatal (Y/N) (categorical, binary: Y/N)\n",
    "This data will represent all kinds of attacks registered.\n",
    "\n",
    "However, we know that the database is kind of messy, so we will need to do some data wrangling (cleaning) before.\n",
    "\"\"\"\n",
    "\n",
    "fatality_activity = shark_attacks[['Activity','Fatal (Y/N)']]\n",
    "\n",
    "fatality_activity"
   ]
  },
  {
   "cell_type": "code",
   "execution_count": 17,
   "metadata": {
    "ExecuteTime": {
     "end_time": "2021-01-28T21:21:19.469529Z",
     "start_time": "2021-01-28T21:21:19.431743Z"
    }
   },
   "outputs": [
    {
     "data": {
      "text/plain": [
       "N          4293\n",
       "Y          1388\n",
       "UNKNOWN      71\n",
       " N            7\n",
       "y             1\n",
       "2017          1\n",
       "M             1\n",
       "N             1\n",
       "Name: Fatal (Y/N), dtype: int64"
      ]
     },
     "execution_count": 17,
     "metadata": {},
     "output_type": "execute_result"
    }
   ],
   "source": [
    "# Let's count all the occurrences present in the column Fatal.\n",
    "\n",
    "shark_attacks['Fatal (Y/N)'].value_counts()\n",
    "\n",
    "# Highest portion of shark attacks are non-fatal."
   ]
  },
  {
   "cell_type": "code",
   "execution_count": 23,
   "metadata": {
    "ExecuteTime": {
     "end_time": "2021-01-28T22:23:30.880459Z",
     "start_time": "2021-01-28T22:23:30.864835Z"
    }
   },
   "outputs": [
    {
     "data": {
      "text/plain": [
       "Surfing                                                                971\n",
       "Swimming                                                               869\n",
       "Fishing                                                                431\n",
       "Spearfishing                                                           333\n",
       "Bathing                                                                162\n",
       "                                                                      ... \n",
       "Collecting marine specimens                                              1\n",
       "Harpooning turtles                                                       1\n",
       "Standing on his hands                                                    1\n",
       "Fishing from rocks, swept out to sea by large wave & treading water      1\n",
       "Helmet diving in Miami Seaquarium                                        1\n",
       "Name: Activity, Length: 1532, dtype: int64"
      ]
     },
     "execution_count": 23,
     "metadata": {},
     "output_type": "execute_result"
    }
   ],
   "source": [
    "shark_attacks['Activity'].value_counts()\n",
    "\n",
    "# Highest portion occurred during surfing, swimming or fishing (apparently).\n",
    "# !However there are way too many categories to affirm anything at this point!"
   ]
  },
  {
   "cell_type": "code",
   "execution_count": 57,
   "metadata": {
    "ExecuteTime": {
     "end_time": "2021-01-28T23:03:25.909869Z",
     "start_time": "2021-01-28T23:03:25.856512Z"
    }
   },
   "outputs": [
    {
     "ename": "TypeError",
     "evalue": "expected string or bytes-like object",
     "output_type": "error",
     "traceback": [
      "\u001b[1;31m---------------------------------------------------------------------------\u001b[0m",
      "\u001b[1;31mTypeError\u001b[0m                                 Traceback (most recent call last)",
      "\u001b[1;32m<ipython-input-57-1a1b47b4d420>\u001b[0m in \u001b[0;36m<module>\u001b[1;34m\u001b[0m\n\u001b[0;32m     10\u001b[0m     \u001b[1;32mreturn\u001b[0m \u001b[0mz\u001b[0m\u001b[1;33m\u001b[0m\u001b[1;33m\u001b[0m\u001b[0m\n\u001b[0;32m     11\u001b[0m \u001b[1;33m\u001b[0m\u001b[0m\n\u001b[1;32m---> 12\u001b[1;33m \u001b[0mshark_attacks\u001b[0m\u001b[1;33m[\u001b[0m\u001b[1;34m'Any feeding'\u001b[0m\u001b[1;33m]\u001b[0m \u001b[1;33m=\u001b[0m \u001b[0mshark_attacks\u001b[0m\u001b[1;33m.\u001b[0m\u001b[0mapply\u001b[0m\u001b[1;33m(\u001b[0m\u001b[0mf\u001b[0m\u001b[1;33m,\u001b[0m \u001b[0maxis\u001b[0m \u001b[1;33m=\u001b[0m \u001b[1;36m1\u001b[0m\u001b[1;33m)\u001b[0m\u001b[1;33m\u001b[0m\u001b[1;33m\u001b[0m\u001b[0m\n\u001b[0m",
      "\u001b[1;32m~\\AppData\\Roaming\\Python\\Python39\\site-packages\\pandas\\core\\frame.py\u001b[0m in \u001b[0;36mapply\u001b[1;34m(self, func, axis, raw, result_type, args, **kwds)\u001b[0m\n\u001b[0;32m   7763\u001b[0m             \u001b[0mkwds\u001b[0m\u001b[1;33m=\u001b[0m\u001b[0mkwds\u001b[0m\u001b[1;33m,\u001b[0m\u001b[1;33m\u001b[0m\u001b[1;33m\u001b[0m\u001b[0m\n\u001b[0;32m   7764\u001b[0m         )\n\u001b[1;32m-> 7765\u001b[1;33m         \u001b[1;32mreturn\u001b[0m \u001b[0mop\u001b[0m\u001b[1;33m.\u001b[0m\u001b[0mget_result\u001b[0m\u001b[1;33m(\u001b[0m\u001b[1;33m)\u001b[0m\u001b[1;33m\u001b[0m\u001b[1;33m\u001b[0m\u001b[0m\n\u001b[0m\u001b[0;32m   7766\u001b[0m \u001b[1;33m\u001b[0m\u001b[0m\n\u001b[0;32m   7767\u001b[0m     \u001b[1;32mdef\u001b[0m \u001b[0mapplymap\u001b[0m\u001b[1;33m(\u001b[0m\u001b[0mself\u001b[0m\u001b[1;33m,\u001b[0m \u001b[0mfunc\u001b[0m\u001b[1;33m,\u001b[0m \u001b[0mna_action\u001b[0m\u001b[1;33m:\u001b[0m \u001b[0mOptional\u001b[0m\u001b[1;33m[\u001b[0m\u001b[0mstr\u001b[0m\u001b[1;33m]\u001b[0m \u001b[1;33m=\u001b[0m \u001b[1;32mNone\u001b[0m\u001b[1;33m)\u001b[0m \u001b[1;33m->\u001b[0m \u001b[0mDataFrame\u001b[0m\u001b[1;33m:\u001b[0m\u001b[1;33m\u001b[0m\u001b[1;33m\u001b[0m\u001b[0m\n",
      "\u001b[1;32m~\\AppData\\Roaming\\Python\\Python39\\site-packages\\pandas\\core\\apply.py\u001b[0m in \u001b[0;36mget_result\u001b[1;34m(self)\u001b[0m\n\u001b[0;32m    183\u001b[0m             \u001b[1;32mreturn\u001b[0m \u001b[0mself\u001b[0m\u001b[1;33m.\u001b[0m\u001b[0mapply_raw\u001b[0m\u001b[1;33m(\u001b[0m\u001b[1;33m)\u001b[0m\u001b[1;33m\u001b[0m\u001b[1;33m\u001b[0m\u001b[0m\n\u001b[0;32m    184\u001b[0m \u001b[1;33m\u001b[0m\u001b[0m\n\u001b[1;32m--> 185\u001b[1;33m         \u001b[1;32mreturn\u001b[0m \u001b[0mself\u001b[0m\u001b[1;33m.\u001b[0m\u001b[0mapply_standard\u001b[0m\u001b[1;33m(\u001b[0m\u001b[1;33m)\u001b[0m\u001b[1;33m\u001b[0m\u001b[1;33m\u001b[0m\u001b[0m\n\u001b[0m\u001b[0;32m    186\u001b[0m \u001b[1;33m\u001b[0m\u001b[0m\n\u001b[0;32m    187\u001b[0m     \u001b[1;32mdef\u001b[0m \u001b[0mapply_empty_result\u001b[0m\u001b[1;33m(\u001b[0m\u001b[0mself\u001b[0m\u001b[1;33m)\u001b[0m\u001b[1;33m:\u001b[0m\u001b[1;33m\u001b[0m\u001b[1;33m\u001b[0m\u001b[0m\n",
      "\u001b[1;32m~\\AppData\\Roaming\\Python\\Python39\\site-packages\\pandas\\core\\apply.py\u001b[0m in \u001b[0;36mapply_standard\u001b[1;34m(self)\u001b[0m\n\u001b[0;32m    274\u001b[0m \u001b[1;33m\u001b[0m\u001b[0m\n\u001b[0;32m    275\u001b[0m     \u001b[1;32mdef\u001b[0m \u001b[0mapply_standard\u001b[0m\u001b[1;33m(\u001b[0m\u001b[0mself\u001b[0m\u001b[1;33m)\u001b[0m\u001b[1;33m:\u001b[0m\u001b[1;33m\u001b[0m\u001b[1;33m\u001b[0m\u001b[0m\n\u001b[1;32m--> 276\u001b[1;33m         \u001b[0mresults\u001b[0m\u001b[1;33m,\u001b[0m \u001b[0mres_index\u001b[0m \u001b[1;33m=\u001b[0m \u001b[0mself\u001b[0m\u001b[1;33m.\u001b[0m\u001b[0mapply_series_generator\u001b[0m\u001b[1;33m(\u001b[0m\u001b[1;33m)\u001b[0m\u001b[1;33m\u001b[0m\u001b[1;33m\u001b[0m\u001b[0m\n\u001b[0m\u001b[0;32m    277\u001b[0m \u001b[1;33m\u001b[0m\u001b[0m\n\u001b[0;32m    278\u001b[0m         \u001b[1;31m# wrap results\u001b[0m\u001b[1;33m\u001b[0m\u001b[1;33m\u001b[0m\u001b[1;33m\u001b[0m\u001b[0m\n",
      "\u001b[1;32m~\\AppData\\Roaming\\Python\\Python39\\site-packages\\pandas\\core\\apply.py\u001b[0m in \u001b[0;36mapply_series_generator\u001b[1;34m(self)\u001b[0m\n\u001b[0;32m    288\u001b[0m             \u001b[1;32mfor\u001b[0m \u001b[0mi\u001b[0m\u001b[1;33m,\u001b[0m \u001b[0mv\u001b[0m \u001b[1;32min\u001b[0m \u001b[0menumerate\u001b[0m\u001b[1;33m(\u001b[0m\u001b[0mseries_gen\u001b[0m\u001b[1;33m)\u001b[0m\u001b[1;33m:\u001b[0m\u001b[1;33m\u001b[0m\u001b[1;33m\u001b[0m\u001b[0m\n\u001b[0;32m    289\u001b[0m                 \u001b[1;31m# ignore SettingWithCopy here in case the user mutates\u001b[0m\u001b[1;33m\u001b[0m\u001b[1;33m\u001b[0m\u001b[1;33m\u001b[0m\u001b[0m\n\u001b[1;32m--> 290\u001b[1;33m                 \u001b[0mresults\u001b[0m\u001b[1;33m[\u001b[0m\u001b[0mi\u001b[0m\u001b[1;33m]\u001b[0m \u001b[1;33m=\u001b[0m \u001b[0mself\u001b[0m\u001b[1;33m.\u001b[0m\u001b[0mf\u001b[0m\u001b[1;33m(\u001b[0m\u001b[0mv\u001b[0m\u001b[1;33m)\u001b[0m\u001b[1;33m\u001b[0m\u001b[1;33m\u001b[0m\u001b[0m\n\u001b[0m\u001b[0;32m    291\u001b[0m                 \u001b[1;32mif\u001b[0m \u001b[0misinstance\u001b[0m\u001b[1;33m(\u001b[0m\u001b[0mresults\u001b[0m\u001b[1;33m[\u001b[0m\u001b[0mi\u001b[0m\u001b[1;33m]\u001b[0m\u001b[1;33m,\u001b[0m \u001b[0mABCSeries\u001b[0m\u001b[1;33m)\u001b[0m\u001b[1;33m:\u001b[0m\u001b[1;33m\u001b[0m\u001b[1;33m\u001b[0m\u001b[0m\n\u001b[0;32m    292\u001b[0m                     \u001b[1;31m# If we have a view on v, we need to make a copy because\u001b[0m\u001b[1;33m\u001b[0m\u001b[1;33m\u001b[0m\u001b[1;33m\u001b[0m\u001b[0m\n",
      "\u001b[1;32m<ipython-input-57-1a1b47b4d420>\u001b[0m in \u001b[0;36mf\u001b[1;34m(row)\u001b[0m\n\u001b[0;32m      5\u001b[0m     \"\"\"\n\u001b[0;32m      6\u001b[0m \u001b[1;33m\u001b[0m\u001b[0m\n\u001b[1;32m----> 7\u001b[1;33m     \u001b[0my\u001b[0m \u001b[1;33m=\u001b[0m \u001b[0mre\u001b[0m\u001b[1;33m.\u001b[0m\u001b[0mfindall\u001b[0m\u001b[1;33m(\u001b[0m\u001b[1;34m'feedi?n?g?'\u001b[0m\u001b[1;33m,\u001b[0m\u001b[0mrow\u001b[0m\u001b[1;33m[\u001b[0m\u001b[1;34m'Activity'\u001b[0m\u001b[1;33m]\u001b[0m\u001b[1;33m)\u001b[0m\u001b[1;33m\u001b[0m\u001b[1;33m\u001b[0m\u001b[0m\n\u001b[0m\u001b[0;32m      8\u001b[0m     \u001b[0mz\u001b[0m \u001b[1;33m=\u001b[0m \u001b[1;34m''\u001b[0m\u001b[1;33m.\u001b[0m\u001b[0mjoin\u001b[0m\u001b[1;33m(\u001b[0m\u001b[0my\u001b[0m\u001b[1;33m)\u001b[0m\u001b[1;33m\u001b[0m\u001b[1;33m\u001b[0m\u001b[0m\n\u001b[0;32m      9\u001b[0m \u001b[1;33m\u001b[0m\u001b[0m\n",
      "\u001b[1;32mc:\\users\\pfaprado\\appdata\\local\\programs\\python\\python39\\lib\\re.py\u001b[0m in \u001b[0;36mfindall\u001b[1;34m(pattern, string, flags)\u001b[0m\n\u001b[0;32m    239\u001b[0m \u001b[1;33m\u001b[0m\u001b[0m\n\u001b[0;32m    240\u001b[0m     Empty matches are included in the result.\"\"\"\n\u001b[1;32m--> 241\u001b[1;33m     \u001b[1;32mreturn\u001b[0m \u001b[0m_compile\u001b[0m\u001b[1;33m(\u001b[0m\u001b[0mpattern\u001b[0m\u001b[1;33m,\u001b[0m \u001b[0mflags\u001b[0m\u001b[1;33m)\u001b[0m\u001b[1;33m.\u001b[0m\u001b[0mfindall\u001b[0m\u001b[1;33m(\u001b[0m\u001b[0mstring\u001b[0m\u001b[1;33m)\u001b[0m\u001b[1;33m\u001b[0m\u001b[1;33m\u001b[0m\u001b[0m\n\u001b[0m\u001b[0;32m    242\u001b[0m \u001b[1;33m\u001b[0m\u001b[0m\n\u001b[0;32m    243\u001b[0m \u001b[1;32mdef\u001b[0m \u001b[0mfinditer\u001b[0m\u001b[1;33m(\u001b[0m\u001b[0mpattern\u001b[0m\u001b[1;33m,\u001b[0m \u001b[0mstring\u001b[0m\u001b[1;33m,\u001b[0m \u001b[0mflags\u001b[0m\u001b[1;33m=\u001b[0m\u001b[1;36m0\u001b[0m\u001b[1;33m)\u001b[0m\u001b[1;33m:\u001b[0m\u001b[1;33m\u001b[0m\u001b[1;33m\u001b[0m\u001b[0m\n",
      "\u001b[1;31mTypeError\u001b[0m: expected string or bytes-like object"
     ]
    }
   ],
   "source": [
    "#Let's check the occurrences were 'feeding' is present.\n",
    "def f(row):\n",
    "    \"\"\"\n",
    "    Find the 'feeding' word in a string.\n",
    "    \"\"\"\n",
    "    \n",
    "    y = re.findall('feedi?n?g?',row['Activity'])\n",
    "    z = ''.join(y)\n",
    "    \n",
    "    return z\n",
    "    \n",
    "shark_attacks['Any feeding'] = shark_attacks.apply(f, axis = 1)"
   ]
  },
  {
   "cell_type": "code",
   "execution_count": null,
   "metadata": {
    "ExecuteTime": {
     "end_time": "2021-01-28T21:12:44.115309Z",
     "start_time": "2021-01-28T21:12:41.191Z"
    }
   },
   "outputs": [],
   "source": [
    "# Let's understand the cases where the entries are null for Activity.\n",
    "\n",
    "null_display_activity = shark_attacks[shark_attacks['Activity'].isnull() == True]\n",
    "null_display_activity\n",
    "\n",
    "# There is no apparent reason or correlation between null entries of Activity to other categories."
   ]
  },
  {
   "cell_type": "code",
   "execution_count": null,
   "metadata": {
    "ExecuteTime": {
     "end_time": "2021-01-28T21:12:44.115309Z",
     "start_time": "2021-01-28T21:12:41.261Z"
    }
   },
   "outputs": [],
   "source": [
    "# Let's understand the cases where the entries are null for Fatal.\n",
    "\n",
    "null_display_fatal = shark_attacks[shark_attacks['Fatal (Y/N)'].isnull() == True]\n",
    "null_display_fatal\n",
    "\n",
    "# There is no apparent reason or correlation between null entries of Fatal to other categories."
   ]
  },
  {
   "cell_type": "code",
   "execution_count": null,
   "metadata": {
    "ExecuteTime": {
     "end_time": "2021-01-28T21:12:44.115309Z",
     "start_time": "2021-01-28T21:12:41.328Z"
    }
   },
   "outputs": [],
   "source": [
    "# Let's check for duplicates in our database and remove them:\n",
    "\n",
    "before = len(shark_attacks)\n",
    "shark_attacks = shark_attacks.drop_duplicates()\n",
    "after = len(shark_attacks)\n",
    "print('Number of duplicate records dropped: ', str(before - after))"
   ]
  },
  {
   "cell_type": "code",
   "execution_count": null,
   "metadata": {
    "ExecuteTime": {
     "end_time": "2021-01-28T21:12:44.115309Z",
     "start_time": "2021-01-28T21:12:41.392Z"
    }
   },
   "outputs": [],
   "source": [
    "# That's how our database is now:\n",
    "\n",
    "shark_attacks.head(7)"
   ]
  },
  {
   "cell_type": "markdown",
   "metadata": {},
   "source": [
    "## Data Cleaning: 'Fatal (Y/N)'"
   ]
  },
  {
   "cell_type": "code",
   "execution_count": null,
   "metadata": {
    "ExecuteTime": {
     "end_time": "2021-01-28T21:12:44.115309Z",
     "start_time": "2021-01-28T21:12:41.491Z"
    },
    "code_folding": []
   },
   "outputs": [],
   "source": [
    "# Let's check the unique values of the column Fatal (Y/N) and its incidence in our database.\n",
    "\n",
    "print(f\"\"\"\n",
    "These are the occurrences of the values for Fatal (Y/N):\n",
    "{shark_attacks['Fatal (Y/N)'].value_counts()}\n",
    "\"\"\")\n",
    "\n",
    "print(f\"\"\"\n",
    "These are the unique values of the Fatal (Y/N) column:\n",
    "{set(shark_attacks['Fatal (Y/N)'])}\n",
    "\n",
    "We will need to standardize it all in Y and N.\n",
    "To do this, we will need to:\n",
    "\n",
    "1. Check rows of data where anything else than Y/N appears (UNKNOWN, 2017, nan, M... about 73 occurrences).\n",
    "    We may be able to attribute it to Y/N if Fatal/FATAL appears/fatal appears in other columns of the entry.\n",
    "2. If not, drop the rows of these data values.\n",
    "3. Transform the series from the dataframe into a list.\n",
    "4. Upper case the strings.\n",
    "5. Strip the strings of spaces after and before the character.\n",
    "\"\"\")"
   ]
  },
  {
   "cell_type": "markdown",
   "metadata": {},
   "source": [
    "### Checking uniques."
   ]
  },
  {
   "cell_type": "code",
   "execution_count": null,
   "metadata": {
    "ExecuteTime": {
     "end_time": "2021-01-28T21:12:44.130938Z",
     "start_time": "2021-01-28T21:12:41.595Z"
    }
   },
   "outputs": [],
   "source": [
    "#Let's examine the case of 2017. There is only one entry classified as 2017.\n",
    "\n",
    "case_2017_list = shark_attacks.loc[shark_attacks['Fatal (Y/N)'] == '2017']\n",
    "\n",
    "case_2017_list\n",
    "\n",
    "# As there is no information regarding the survivability on other columns,\n",
    "# we will dismiss this entry in the dropping section."
   ]
  },
  {
   "cell_type": "code",
   "execution_count": null,
   "metadata": {
    "ExecuteTime": {
     "end_time": "2021-01-28T21:12:44.130938Z",
     "start_time": "2021-01-28T21:12:41.645Z"
    }
   },
   "outputs": [],
   "source": [
    "# Let's examine the case of UNKNOWN. There are many entries classified as UNKNOWN.\n",
    "\n",
    "case_UNKNOWN = shark_attacks.loc[shark_attacks['Fatal (Y/N)'] == 'UNKNOWN']\n",
    "print(case_UNKNOWN)\n",
    "\n",
    "# Printaremos também os índices referentes à entrada UNKNOWN. Futuramente retiraremos as linhas com base nessa lista.\n",
    "\n",
    "case_UNKNOWN_list = list(case_UNKNOWN.index)\n",
    "print(case_UNKNOWN_list)\n",
    "\n",
    "# Examining the set of unique values of injury, we don't have any other relevant info on the fatality of the entries.\n",
    "# So we can't take any action to classify these entries neither as Y nor as N.\n",
    "\n",
    "set(case_UNKNOWN['Injury'])\n",
    "\n",
    "# We will dismiss these entries since there is no info about fatality in the adjacent columns."
   ]
  },
  {
   "cell_type": "code",
   "execution_count": null,
   "metadata": {
    "ExecuteTime": {
     "end_time": "2021-01-28T21:12:44.130938Z",
     "start_time": "2021-01-28T21:12:41.729Z"
    }
   },
   "outputs": [],
   "source": [
    "# Let's examine the case of M. There is only one entry classified as M.\n",
    "\n",
    "case_M = shark_attacks.loc[shark_attacks['Fatal (Y/N)'] == 'M']\n",
    "print(case_M)\n",
    "\n",
    "# Printaremos também os índices referentes à entrada M. Futuramente retiraremos as linhas com base nessa lista.\n",
    "\n",
    "case_M_list = list(case_M.index)\n",
    "print(case_M_list)\n",
    "\n",
    "# It seems it was only a laceration and the input was supposed to be N, not M. We will change it to 'N' (not fatal)."
   ]
  },
  {
   "cell_type": "code",
   "execution_count": null,
   "metadata": {
    "ExecuteTime": {
     "end_time": "2021-01-28T21:12:44.130938Z",
     "start_time": "2021-01-28T21:12:41.777Z"
    }
   },
   "outputs": [],
   "source": [
    "# Showing all NaN in column Fatal (Y/N)\n",
    "\n",
    "null_display_fatal = shark_attacks[shark_attacks['Fatal (Y/N)'].isnull() == True]\n",
    "null_display_fatal"
   ]
  },
  {
   "cell_type": "code",
   "execution_count": null,
   "metadata": {
    "ExecuteTime": {
     "end_time": "2021-01-28T21:12:44.130938Z",
     "start_time": "2021-01-28T21:12:41.847Z"
    }
   },
   "outputs": [],
   "source": [
    "# Let's examine the case of NaN. There are many entries like this.\n",
    "# We will reclassify the values of NaN based on columns 'Injury' and 'Species' since it seems the data entrier\n",
    "# had put some keywords such as FATAL and Death on these columns and could lead us to improve our dataset.\n",
    "\n",
    "# Let's define a function to apply to our dataset, where we classify the values in Fatal_adjusted based on\n",
    "# columns 'Injury' and 'Species', when they do have the info 'death' or 'fatal'.\n",
    "\n",
    "# WARNING: column Species is written with a space at the end = 'Species '\n",
    "\n",
    "def fatal_classifier(row):\n",
    "    \n",
    "    \"\"\"\n",
    "    Essa função classificará em N ou Y com base nas strings ou lista de strings encontradas\n",
    "    nas colunas Injury e Species.\n",
    "    \"\"\"\n",
    "    \n",
    "    if row['Fatal (Y/N)'] == ('Y' or 'y'):\n",
    "        return 'Y'\n",
    "    \n",
    "    elif row['Fatal (Y/N)'] == ('N' or 'n'):\n",
    "        return 'N'\n",
    "        \n",
    "    elif pd.isnull(row['Fatal (Y/N)']) == True: \n",
    "        \n",
    "        try:            \n",
    "            Injury_match_list = re.findall('[fFdD][aAeE][tTaA][aAtT][lLhH]', row['Injury'])    #variações de 'death' e 'fatal'\n",
    "            Species_match_list = re.findall('[fFdD][aAeE][tTaA][aAtT][lLhH]', row['Species '])    #variações de 'death' e 'fatal'\n",
    "            \n",
    "            if  len(Injury_match_list + Species_match_list) == 0:\n",
    "                return 'N'\n",
    "    \n",
    "            else:\n",
    "                return 'Y'\n",
    "        \n",
    "        except:\n",
    "            return 'Non available'\n",
    "        \n",
    "        \n",
    "    else:\n",
    "        return row['Fatal (Y/N)']\n",
    "\n",
    "    \n",
    "shark_attacks['Fatal_adjusted'] = shark_attacks.apply(fatal_classifier, axis=1)\n",
    "\n",
    "\n",
    "#print(shark_attacks['Fatal_adjusted'] == shark_attacks['Fatal (Y/N)'])\n",
    "\n",
    "null_display_fatal = shark_attacks[shark_attacks['Fatal (Y/N)'].isnull() == True]\n",
    "null_display_fatal"
   ]
  },
  {
   "cell_type": "markdown",
   "metadata": {},
   "source": [
    "### Row dropping"
   ]
  },
  {
   "cell_type": "code",
   "execution_count": null,
   "metadata": {
    "ExecuteTime": {
     "end_time": "2021-01-28T21:12:44.130938Z",
     "start_time": "2021-01-28T21:12:41.977Z"
    }
   },
   "outputs": [],
   "source": [
    "# Let's drop the rows where Fatal_adjusted is Non available, through a list of indexes.\n",
    "\n",
    "list_to_be_dropped = shark_attacks.loc[shark_attacks['Fatal_adjusted'] == 'Non available'].index\n",
    "\n",
    "# Dropping the list of indexes\n",
    "shark_attacks_v1 = shark_attacks.drop(index=list_to_be_dropped)"
   ]
  },
  {
   "cell_type": "code",
   "execution_count": null,
   "metadata": {
    "ExecuteTime": {
     "end_time": "2021-01-28T21:12:44.130938Z",
     "start_time": "2021-01-28T21:12:42.046Z"
    }
   },
   "outputs": [],
   "source": [
    "# Let's drop the case of 2017 (row 786).\n",
    "case_2017_list = [786]"
   ]
  },
  {
   "cell_type": "code",
   "execution_count": null,
   "metadata": {
    "ExecuteTime": {
     "end_time": "2021-01-28T21:12:44.146563Z",
     "start_time": "2021-01-28T21:12:42.107Z"
    }
   },
   "outputs": [],
   "source": [
    "# Let's drop the case of UNKNOWNs ().\n",
    "    # case_UNKNOWN_list\n",
    "    \n",
    "shark_attacks_v2 = shark_attacks_v1.drop(index=case_UNKNOWN_list)\n",
    "shark_attacks_v3 = shark_attacks_v2.drop(index=case_2017_list)"
   ]
  },
  {
   "cell_type": "markdown",
   "metadata": {
    "ExecuteTime": {
     "end_time": "2021-01-25T13:40:43.255993Z",
     "start_time": "2021-01-25T13:40:43.253010Z"
    }
   },
   "source": [
    "### Row adjusting"
   ]
  },
  {
   "cell_type": "code",
   "execution_count": null,
   "metadata": {
    "ExecuteTime": {
     "end_time": "2021-01-28T21:12:44.146563Z",
     "start_time": "2021-01-28T21:12:42.208Z"
    }
   },
   "outputs": [],
   "source": [
    "# For M, we will update the row 285 for Fatal (Y/N) from M to N.\n",
    "\n",
    "shark_attacks_v3.loc[285,'Fatal_adjusted'] = 'N'\n",
    "\n",
    "# Checking the value update:\n",
    "\n",
    "print(shark_attacks_v3.loc[285,'Fatal_adjusted'])"
   ]
  },
  {
   "cell_type": "markdown",
   "metadata": {},
   "source": [
    "### Stripping spaces in Fatal_adjusted"
   ]
  },
  {
   "cell_type": "code",
   "execution_count": null,
   "metadata": {
    "ExecuteTime": {
     "end_time": "2021-01-28T21:12:44.146563Z",
     "start_time": "2021-01-28T21:12:42.309Z"
    }
   },
   "outputs": [],
   "source": [
    "def strip_spaces(x):\n",
    "    return x.strip()    \n",
    "\n",
    "shark_attacks_v3['Fatal_adjusted'] = shark_attacks_v3['Fatal_adjusted'].apply(strip_spaces)"
   ]
  },
  {
   "cell_type": "code",
   "execution_count": null,
   "metadata": {
    "ExecuteTime": {
     "end_time": "2021-01-28T21:12:44.146563Z",
     "start_time": "2021-01-28T21:12:42.378Z"
    }
   },
   "outputs": [],
   "source": [
    "set(shark_attacks_v3['Fatal_adjusted'])"
   ]
  },
  {
   "cell_type": "markdown",
   "metadata": {},
   "source": [
    "### Upper case all strings in Fatal_adjusted"
   ]
  },
  {
   "cell_type": "code",
   "execution_count": null,
   "metadata": {
    "ExecuteTime": {
     "end_time": "2021-01-28T21:12:44.146563Z",
     "start_time": "2021-01-28T21:12:42.509Z"
    }
   },
   "outputs": [],
   "source": [
    "shark_attacks_v3['Fatal_adjusted'] = shark_attacks_v3['Fatal_adjusted'].str.upper()"
   ]
  },
  {
   "cell_type": "code",
   "execution_count": null,
   "metadata": {
    "ExecuteTime": {
     "end_time": "2021-01-28T21:12:44.146563Z",
     "start_time": "2021-01-28T21:12:42.579Z"
    }
   },
   "outputs": [],
   "source": [
    "set(shark_attacks_v3['Fatal_adjusted'])\n",
    "\n",
    "# We obtained a set containing only 'N' and 'Y' at the end."
   ]
  },
  {
   "cell_type": "code",
   "execution_count": null,
   "metadata": {
    "ExecuteTime": {
     "end_time": "2021-01-28T21:12:44.162186Z",
     "start_time": "2021-01-28T21:12:42.649Z"
    }
   },
   "outputs": [],
   "source": [
    "# The database updated:\n",
    "\n",
    "shark_attacks_v3['Fatal_adjusted'].value_counts()"
   ]
  },
  {
   "cell_type": "markdown",
   "metadata": {},
   "source": [
    "### Total death rate"
   ]
  },
  {
   "cell_type": "code",
   "execution_count": null,
   "metadata": {
    "ExecuteTime": {
     "end_time": "2021-01-28T21:12:44.162186Z",
     "start_time": "2021-01-28T21:12:42.781Z"
    }
   },
   "outputs": [],
   "source": [
    "death_rate = 1620/4580\n",
    "print(f\"\"\"The total death rate for the time span was {death_rate*100}%. \n",
    "This number could be lower but hardly higher, since we dropped the columns where no conclusion could be drawn\n",
    "and they were mostly about lacerations and such.\"\"\")"
   ]
  },
  {
   "cell_type": "code",
   "execution_count": null,
   "metadata": {
    "ExecuteTime": {
     "end_time": "2021-01-28T21:12:44.162186Z",
     "start_time": "2021-01-28T21:12:42.835Z"
    }
   },
   "outputs": [],
   "source": [
    "shark_attacks_v3"
   ]
  },
  {
   "cell_type": "markdown",
   "metadata": {},
   "source": [
    "## Data Cleaning: 'Activity'"
   ]
  },
  {
   "cell_type": "markdown",
   "metadata": {
    "ExecuteTime": {
     "end_time": "2021-01-26T14:05:50.314789Z",
     "start_time": "2021-01-26T14:05:50.310792Z"
    }
   },
   "source": [
    "### Checking uniques."
   ]
  },
  {
   "cell_type": "code",
   "execution_count": null,
   "metadata": {
    "ExecuteTime": {
     "end_time": "2021-01-28T21:12:44.162186Z",
     "start_time": "2021-01-28T21:12:42.967Z"
    }
   },
   "outputs": [],
   "source": [
    "# Let's check the unique values of the column Activity.\n",
    "\n",
    "print(set(shark_attacks['Activity']))\n",
    "\n",
    "# Problematic: anedoctal(too many descriptions).\n",
    "# We will have to categorize them better, maybe through bins."
   ]
  },
  {
   "cell_type": "code",
   "execution_count": 580,
   "metadata": {
    "ExecuteTime": {
     "end_time": "2021-01-26T14:21:39.088855Z",
     "start_time": "2021-01-26T14:21:39.084876Z"
    }
   },
   "outputs": [
    {
     "name": "stdout",
     "output_type": "stream",
     "text": [
      "\n",
      "\n",
      "We will base this on the following sources:\n",
      "\n",
      "https://en.wikipedia.org/wiki/List_of_water_sports\n",
      "https://www.themost10.com/popular-water-sports/\n",
      "\n",
      "- Fishing: Fishing / Spearfishing / Deep sea fishing / Big game fishing\n",
      "- Diving: Diving / Scuba Diving / Snorkeling / Freediving\n",
      "- Surfing: Surfing\n",
      "- Swimming: Swimming\n",
      "- Parasailing: Parasailing\n",
      "- Boats: Kayaking / Canoeing / Rafting / Boating\n",
      "- Skiing: Jet Skiing / Water Skiing\n",
      "- Wake: Wakeboarding / Wakesurfing\n",
      "- Kite: Kitesurfing / Kiteboarding\n",
      "- Motorized boats: Yachting / Ship\n",
      "- Other activities\n",
      "\n",
      "...and finally...\n",
      "\n",
      "- Shark feeding\n",
      "\n",
      "\n"
     ]
    }
   ],
   "source": [
    "print(f\"\"\"\n",
    "\n",
    "We will base this on the following sources:\n",
    "\n",
    "https://en.wikipedia.org/wiki/List_of_water_sports\n",
    "https://www.themost10.com/popular-water-sports/\n",
    "\n",
    "- Fishing: Fishing / Spearfishing / Deep sea fishing / Big game fishing\n",
    "- Diving: Diving / Scuba Diving / Snorkeling / Freediving\n",
    "- Surfing: Surfing\n",
    "- Swimming: Swimming\n",
    "- Parasailing: Parasailing\n",
    "- Boats: Kayaking / Canoeing / Rafting / Boating\n",
    "- Skiing: Jet Skiing / Water Skiing\n",
    "- Wake: Wakeboarding / Wakesurfing\n",
    "- Kite: Kitesurfing / Kiteboarding\n",
    "- Motorized boats: Yachting / Ship\n",
    "- Other activities\n",
    "\n",
    "...and finally...\n",
    "\n",
    "- Shark feeding\n",
    "\n",
    "\"\"\")"
   ]
  },
  {
   "cell_type": "code",
   "execution_count": 536,
   "metadata": {
    "ExecuteTime": {
     "end_time": "2021-01-26T14:07:13.876619Z",
     "start_time": "2021-01-26T14:07:13.852634Z"
    }
   },
   "outputs": [
    {
     "ename": "TypeError",
     "evalue": "expected string or bytes-like object",
     "output_type": "error",
     "traceback": [
      "\u001b[1;31m---------------------------------------------------------------------------\u001b[0m",
      "\u001b[1;31mTypeError\u001b[0m                                 Traceback (most recent call last)",
      "\u001b[1;32m<ipython-input-536-622d8fffd044>\u001b[0m in \u001b[0;36m<module>\u001b[1;34m\u001b[0m\n\u001b[0;32m     23\u001b[0m \u001b[1;33m\u001b[0m\u001b[0m\n\u001b[0;32m     24\u001b[0m \u001b[1;33m\u001b[0m\u001b[0m\n\u001b[1;32m---> 25\u001b[1;33m \u001b[0mshark_attacks_v3\u001b[0m\u001b[1;33m[\u001b[0m\u001b[1;34m'Activity_adjusted'\u001b[0m\u001b[1;33m]\u001b[0m \u001b[1;33m=\u001b[0m \u001b[0mshark_attacks\u001b[0m\u001b[1;33m.\u001b[0m\u001b[0mapply\u001b[0m\u001b[1;33m(\u001b[0m\u001b[0mactivity_classifier\u001b[0m\u001b[1;33m,\u001b[0m \u001b[0maxis\u001b[0m\u001b[1;33m=\u001b[0m\u001b[1;36m1\u001b[0m\u001b[1;33m)\u001b[0m\u001b[1;33m\u001b[0m\u001b[1;33m\u001b[0m\u001b[0m\n\u001b[0m",
      "\u001b[1;32m~\\AppData\\Roaming\\Python\\Python39\\site-packages\\pandas\\core\\frame.py\u001b[0m in \u001b[0;36mapply\u001b[1;34m(self, func, axis, raw, result_type, args, **kwds)\u001b[0m\n\u001b[0;32m   7763\u001b[0m             \u001b[0mkwds\u001b[0m\u001b[1;33m=\u001b[0m\u001b[0mkwds\u001b[0m\u001b[1;33m,\u001b[0m\u001b[1;33m\u001b[0m\u001b[1;33m\u001b[0m\u001b[0m\n\u001b[0;32m   7764\u001b[0m         )\n\u001b[1;32m-> 7765\u001b[1;33m         \u001b[1;32mreturn\u001b[0m \u001b[0mop\u001b[0m\u001b[1;33m.\u001b[0m\u001b[0mget_result\u001b[0m\u001b[1;33m(\u001b[0m\u001b[1;33m)\u001b[0m\u001b[1;33m\u001b[0m\u001b[1;33m\u001b[0m\u001b[0m\n\u001b[0m\u001b[0;32m   7766\u001b[0m \u001b[1;33m\u001b[0m\u001b[0m\n\u001b[0;32m   7767\u001b[0m     \u001b[1;32mdef\u001b[0m \u001b[0mapplymap\u001b[0m\u001b[1;33m(\u001b[0m\u001b[0mself\u001b[0m\u001b[1;33m,\u001b[0m \u001b[0mfunc\u001b[0m\u001b[1;33m,\u001b[0m \u001b[0mna_action\u001b[0m\u001b[1;33m:\u001b[0m \u001b[0mOptional\u001b[0m\u001b[1;33m[\u001b[0m\u001b[0mstr\u001b[0m\u001b[1;33m]\u001b[0m \u001b[1;33m=\u001b[0m \u001b[1;32mNone\u001b[0m\u001b[1;33m)\u001b[0m \u001b[1;33m->\u001b[0m \u001b[0mDataFrame\u001b[0m\u001b[1;33m:\u001b[0m\u001b[1;33m\u001b[0m\u001b[1;33m\u001b[0m\u001b[0m\n",
      "\u001b[1;32m~\\AppData\\Roaming\\Python\\Python39\\site-packages\\pandas\\core\\apply.py\u001b[0m in \u001b[0;36mget_result\u001b[1;34m(self)\u001b[0m\n\u001b[0;32m    183\u001b[0m             \u001b[1;32mreturn\u001b[0m \u001b[0mself\u001b[0m\u001b[1;33m.\u001b[0m\u001b[0mapply_raw\u001b[0m\u001b[1;33m(\u001b[0m\u001b[1;33m)\u001b[0m\u001b[1;33m\u001b[0m\u001b[1;33m\u001b[0m\u001b[0m\n\u001b[0;32m    184\u001b[0m \u001b[1;33m\u001b[0m\u001b[0m\n\u001b[1;32m--> 185\u001b[1;33m         \u001b[1;32mreturn\u001b[0m \u001b[0mself\u001b[0m\u001b[1;33m.\u001b[0m\u001b[0mapply_standard\u001b[0m\u001b[1;33m(\u001b[0m\u001b[1;33m)\u001b[0m\u001b[1;33m\u001b[0m\u001b[1;33m\u001b[0m\u001b[0m\n\u001b[0m\u001b[0;32m    186\u001b[0m \u001b[1;33m\u001b[0m\u001b[0m\n\u001b[0;32m    187\u001b[0m     \u001b[1;32mdef\u001b[0m \u001b[0mapply_empty_result\u001b[0m\u001b[1;33m(\u001b[0m\u001b[0mself\u001b[0m\u001b[1;33m)\u001b[0m\u001b[1;33m:\u001b[0m\u001b[1;33m\u001b[0m\u001b[1;33m\u001b[0m\u001b[0m\n",
      "\u001b[1;32m~\\AppData\\Roaming\\Python\\Python39\\site-packages\\pandas\\core\\apply.py\u001b[0m in \u001b[0;36mapply_standard\u001b[1;34m(self)\u001b[0m\n\u001b[0;32m    274\u001b[0m \u001b[1;33m\u001b[0m\u001b[0m\n\u001b[0;32m    275\u001b[0m     \u001b[1;32mdef\u001b[0m \u001b[0mapply_standard\u001b[0m\u001b[1;33m(\u001b[0m\u001b[0mself\u001b[0m\u001b[1;33m)\u001b[0m\u001b[1;33m:\u001b[0m\u001b[1;33m\u001b[0m\u001b[1;33m\u001b[0m\u001b[0m\n\u001b[1;32m--> 276\u001b[1;33m         \u001b[0mresults\u001b[0m\u001b[1;33m,\u001b[0m \u001b[0mres_index\u001b[0m \u001b[1;33m=\u001b[0m \u001b[0mself\u001b[0m\u001b[1;33m.\u001b[0m\u001b[0mapply_series_generator\u001b[0m\u001b[1;33m(\u001b[0m\u001b[1;33m)\u001b[0m\u001b[1;33m\u001b[0m\u001b[1;33m\u001b[0m\u001b[0m\n\u001b[0m\u001b[0;32m    277\u001b[0m \u001b[1;33m\u001b[0m\u001b[0m\n\u001b[0;32m    278\u001b[0m         \u001b[1;31m# wrap results\u001b[0m\u001b[1;33m\u001b[0m\u001b[1;33m\u001b[0m\u001b[1;33m\u001b[0m\u001b[0m\n",
      "\u001b[1;32m~\\AppData\\Roaming\\Python\\Python39\\site-packages\\pandas\\core\\apply.py\u001b[0m in \u001b[0;36mapply_series_generator\u001b[1;34m(self)\u001b[0m\n\u001b[0;32m    288\u001b[0m             \u001b[1;32mfor\u001b[0m \u001b[0mi\u001b[0m\u001b[1;33m,\u001b[0m \u001b[0mv\u001b[0m \u001b[1;32min\u001b[0m \u001b[0menumerate\u001b[0m\u001b[1;33m(\u001b[0m\u001b[0mseries_gen\u001b[0m\u001b[1;33m)\u001b[0m\u001b[1;33m:\u001b[0m\u001b[1;33m\u001b[0m\u001b[1;33m\u001b[0m\u001b[0m\n\u001b[0;32m    289\u001b[0m                 \u001b[1;31m# ignore SettingWithCopy here in case the user mutates\u001b[0m\u001b[1;33m\u001b[0m\u001b[1;33m\u001b[0m\u001b[1;33m\u001b[0m\u001b[0m\n\u001b[1;32m--> 290\u001b[1;33m                 \u001b[0mresults\u001b[0m\u001b[1;33m[\u001b[0m\u001b[0mi\u001b[0m\u001b[1;33m]\u001b[0m \u001b[1;33m=\u001b[0m \u001b[0mself\u001b[0m\u001b[1;33m.\u001b[0m\u001b[0mf\u001b[0m\u001b[1;33m(\u001b[0m\u001b[0mv\u001b[0m\u001b[1;33m)\u001b[0m\u001b[1;33m\u001b[0m\u001b[1;33m\u001b[0m\u001b[0m\n\u001b[0m\u001b[0;32m    291\u001b[0m                 \u001b[1;32mif\u001b[0m \u001b[0misinstance\u001b[0m\u001b[1;33m(\u001b[0m\u001b[0mresults\u001b[0m\u001b[1;33m[\u001b[0m\u001b[0mi\u001b[0m\u001b[1;33m]\u001b[0m\u001b[1;33m,\u001b[0m \u001b[0mABCSeries\u001b[0m\u001b[1;33m)\u001b[0m\u001b[1;33m:\u001b[0m\u001b[1;33m\u001b[0m\u001b[1;33m\u001b[0m\u001b[0m\n\u001b[0;32m    292\u001b[0m                     \u001b[1;31m# If we have a view on v, we need to make a copy because\u001b[0m\u001b[1;33m\u001b[0m\u001b[1;33m\u001b[0m\u001b[1;33m\u001b[0m\u001b[0m\n",
      "\u001b[1;32m<ipython-input-536-622d8fffd044>\u001b[0m in \u001b[0;36mactivity_classifier\u001b[1;34m(row)\u001b[0m\n\u001b[0;32m      4\u001b[0m     \"\"\"\n\u001b[0;32m      5\u001b[0m \u001b[1;33m\u001b[0m\u001b[0m\n\u001b[1;32m----> 6\u001b[1;33m     \u001b[0mfishing_match_list\u001b[0m \u001b[1;33m=\u001b[0m \u001b[0mre\u001b[0m\u001b[1;33m.\u001b[0m\u001b[0mfindall\u001b[0m\u001b[1;33m(\u001b[0m\u001b[1;34m'[fF][iI][sS][hH][iI][nN][gG]'\u001b[0m\u001b[1;33m,\u001b[0m \u001b[0mrow\u001b[0m\u001b[1;33m[\u001b[0m\u001b[1;34m'Activity'\u001b[0m\u001b[1;33m]\u001b[0m\u001b[1;33m)\u001b[0m\u001b[1;33m\u001b[0m\u001b[1;33m\u001b[0m\u001b[0m\n\u001b[0m\u001b[0;32m      7\u001b[0m     \u001b[0mdiving_match_list\u001b[0m \u001b[1;33m=\u001b[0m \u001b[0mre\u001b[0m\u001b[1;33m.\u001b[0m\u001b[0mfindall\u001b[0m\u001b[1;33m(\u001b[0m\u001b[1;34m'[dD][iI][vV][iI][nN][gG]'\u001b[0m\u001b[1;33m,\u001b[0m \u001b[0mrow\u001b[0m\u001b[1;33m[\u001b[0m\u001b[1;34m'Activity'\u001b[0m\u001b[1;33m]\u001b[0m\u001b[1;33m)\u001b[0m\u001b[1;33m\u001b[0m\u001b[1;33m\u001b[0m\u001b[0m\n\u001b[0;32m      8\u001b[0m \u001b[1;33m\u001b[0m\u001b[0m\n",
      "\u001b[1;32mc:\\users\\pfaprado\\appdata\\local\\programs\\python\\python39\\lib\\re.py\u001b[0m in \u001b[0;36mfindall\u001b[1;34m(pattern, string, flags)\u001b[0m\n\u001b[0;32m    239\u001b[0m \u001b[1;33m\u001b[0m\u001b[0m\n\u001b[0;32m    240\u001b[0m     Empty matches are included in the result.\"\"\"\n\u001b[1;32m--> 241\u001b[1;33m     \u001b[1;32mreturn\u001b[0m \u001b[0m_compile\u001b[0m\u001b[1;33m(\u001b[0m\u001b[0mpattern\u001b[0m\u001b[1;33m,\u001b[0m \u001b[0mflags\u001b[0m\u001b[1;33m)\u001b[0m\u001b[1;33m.\u001b[0m\u001b[0mfindall\u001b[0m\u001b[1;33m(\u001b[0m\u001b[0mstring\u001b[0m\u001b[1;33m)\u001b[0m\u001b[1;33m\u001b[0m\u001b[1;33m\u001b[0m\u001b[0m\n\u001b[0m\u001b[0;32m    242\u001b[0m \u001b[1;33m\u001b[0m\u001b[0m\n\u001b[0;32m    243\u001b[0m \u001b[1;32mdef\u001b[0m \u001b[0mfinditer\u001b[0m\u001b[1;33m(\u001b[0m\u001b[0mpattern\u001b[0m\u001b[1;33m,\u001b[0m \u001b[0mstring\u001b[0m\u001b[1;33m,\u001b[0m \u001b[0mflags\u001b[0m\u001b[1;33m=\u001b[0m\u001b[1;36m0\u001b[0m\u001b[1;33m)\u001b[0m\u001b[1;33m:\u001b[0m\u001b[1;33m\u001b[0m\u001b[1;33m\u001b[0m\u001b[0m\n",
      "\u001b[1;31mTypeError\u001b[0m: expected string or bytes-like object"
     ]
    }
   ],
   "source": [
    "def activity_classifier(row):\n",
    "    \"\"\"\n",
    "    This function will classify the rows present in columns 'Activity' based on a list of strings set before.  \n",
    "    \"\"\"\n",
    "    \n",
    "    fishing_match_list = re.findall('[fF][iI][sS][hH][iI][nN][gG]', row['Activity'])\n",
    "    diving_match_list = re.findall('[dD][iI][vV][iI][nN][gG]', row['Activity'])\n",
    "    surfing_match_list = re.findall('[sS][uU][rR][fF][iI][nN][gG]', row['Activity'])\n",
    "    swimming_match_list = re.findall('[sS][wW][iI][mM][mM][iI][nN][gG]', row['Activity'])\n",
    "    \n",
    "    if  len(fishing_match_list) != 0:\n",
    "        return fishing_match_list[0]\n",
    "                \n",
    "    elif  len(diving_match_list) != 0:\n",
    "        return diving_match_list[0]\n",
    "        \n",
    "    if len(surfing_match_list) != 0:\n",
    "        return surfing_match_list[0]\n",
    "        \n",
    "    if len(swimming_match_list) != 0:\n",
    "        return swimming_match_list[0]\n",
    "        \n",
    "    else:\n",
    "        return 'working'\n",
    "    \n",
    "    \n",
    "shark_attacks_v3['Activity_adjusted'] = shark_attacks.apply(activity_classifier, axis=1)\n",
    "\n",
    "row('Activity')"
   ]
  },
  {
   "cell_type": "markdown",
   "metadata": {},
   "source": [
    "## Data Cleaning: 'Type'"
   ]
  },
  {
   "cell_type": "code",
   "execution_count": 25,
   "metadata": {
    "ExecuteTime": {
     "end_time": "2021-01-25T12:25:49.686087Z",
     "start_time": "2021-01-25T12:25:49.680090Z"
    }
   },
   "outputs": [
    {
     "name": "stdout",
     "output_type": "stream",
     "text": [
      "Unprovoked      4595\n",
      "Provoked         574\n",
      "Invalid          547\n",
      "Sea Disaster     239\n",
      "Boating          203\n",
      "Boat             137\n",
      "Questionable       2\n",
      "Boatomg            1\n",
      "Name: Type, dtype: int64\n"
     ]
    }
   ],
   "source": [
    "print(shark_attacks['Type'].value_counts())\n",
    "\n",
    "# We will have to reclassify this column too, based on text of other columns."
   ]
  },
  {
   "cell_type": "code",
   "execution_count": 32,
   "metadata": {
    "ExecuteTime": {
     "end_time": "2021-01-25T13:18:47.867647Z",
     "start_time": "2021-01-25T13:18:47.834652Z"
    }
   },
   "outputs": [
    {
     "data": {
      "text/html": [
       "<div>\n",
       "<style scoped>\n",
       "    .dataframe tbody tr th:only-of-type {\n",
       "        vertical-align: middle;\n",
       "    }\n",
       "\n",
       "    .dataframe tbody tr th {\n",
       "        vertical-align: top;\n",
       "    }\n",
       "\n",
       "    .dataframe thead th {\n",
       "        text-align: right;\n",
       "    }\n",
       "</style>\n",
       "<table border=\"1\" class=\"dataframe\">\n",
       "  <thead>\n",
       "    <tr style=\"text-align: right;\">\n",
       "      <th></th>\n",
       "      <th>Case Number</th>\n",
       "      <th>Date</th>\n",
       "      <th>Year</th>\n",
       "      <th>Type</th>\n",
       "      <th>Country</th>\n",
       "      <th>Area</th>\n",
       "      <th>Location</th>\n",
       "      <th>Activity</th>\n",
       "      <th>Name</th>\n",
       "      <th>Sex</th>\n",
       "      <th>Age</th>\n",
       "      <th>Injury</th>\n",
       "      <th>Fatal (Y/N)</th>\n",
       "      <th>Time</th>\n",
       "      <th>Species</th>\n",
       "      <th>Investigator or Source</th>\n",
       "      <th>pdf</th>\n",
       "      <th>href formula</th>\n",
       "      <th>href</th>\n",
       "      <th>Case Number.1</th>\n",
       "      <th>Case Number.2</th>\n",
       "      <th>original order</th>\n",
       "      <th>Unnamed: 22</th>\n",
       "      <th>Unnamed: 23</th>\n",
       "    </tr>\n",
       "  </thead>\n",
       "  <tbody>\n",
       "    <tr>\n",
       "      <th>2</th>\n",
       "      <td>2018.06.09</td>\n",
       "      <td>09-Jun-2018</td>\n",
       "      <td>2018.0</td>\n",
       "      <td>Invalid</td>\n",
       "      <td>USA</td>\n",
       "      <td>Hawaii</td>\n",
       "      <td>Habush, Oahu</td>\n",
       "      <td>Surfing</td>\n",
       "      <td>John Denges</td>\n",
       "      <td>M</td>\n",
       "      <td>48</td>\n",
       "      <td>Injury to left lower leg from surfboard skeg</td>\n",
       "      <td>N</td>\n",
       "      <td>07h45</td>\n",
       "      <td>NaN</td>\n",
       "      <td>K.McMurray, TrackingSharks.com</td>\n",
       "      <td>2018.06.09-Denges.pdf</td>\n",
       "      <td>http://sharkattackfile.net/spreadsheets/pdf_di...</td>\n",
       "      <td>http://sharkattackfile.net/spreadsheets/pdf_di...</td>\n",
       "      <td>2018.06.09</td>\n",
       "      <td>2018.06.09</td>\n",
       "      <td>6301.0</td>\n",
       "      <td>NaN</td>\n",
       "      <td>NaN</td>\n",
       "    </tr>\n",
       "    <tr>\n",
       "      <th>13</th>\n",
       "      <td>2018.05.13.a</td>\n",
       "      <td>13-May-2018</td>\n",
       "      <td>2018.0</td>\n",
       "      <td>Invalid</td>\n",
       "      <td>ENGLAND</td>\n",
       "      <td>Cornwall</td>\n",
       "      <td>Off Land's End</td>\n",
       "      <td>Fishing</td>\n",
       "      <td>Max Berryman</td>\n",
       "      <td>M</td>\n",
       "      <td>21</td>\n",
       "      <td>Injured by teeth of a dead porbeagle shark he ...</td>\n",
       "      <td>N</td>\n",
       "      <td>08h15</td>\n",
       "      <td>Invalid incident</td>\n",
       "      <td>K. McMurray, TrackingSharks.com</td>\n",
       "      <td>2018.05.13.a-Berryman.pdf</td>\n",
       "      <td>http://sharkattackfile.net/spreadsheets/pdf_di...</td>\n",
       "      <td>http://sharkattackfile.net/spreadsheets/pdf_di...</td>\n",
       "      <td>2018.05.13.a</td>\n",
       "      <td>2018.05.13.a</td>\n",
       "      <td>6290.0</td>\n",
       "      <td>NaN</td>\n",
       "      <td>NaN</td>\n",
       "    </tr>\n",
       "    <tr>\n",
       "      <th>31</th>\n",
       "      <td>2018.04.10.R</td>\n",
       "      <td>Reported 10-Apr-2018</td>\n",
       "      <td>2018.0</td>\n",
       "      <td>Invalid</td>\n",
       "      <td>BRAZIL</td>\n",
       "      <td>Alagoas</td>\n",
       "      <td>Praia de Sauaçuhy, Maceió</td>\n",
       "      <td>Fishing</td>\n",
       "      <td>Josias Paz</td>\n",
       "      <td>M</td>\n",
       "      <td>56</td>\n",
       "      <td>Injury to ankle from marine animal trapped in ...</td>\n",
       "      <td>N</td>\n",
       "      <td>NaN</td>\n",
       "      <td>Shark involvement not confirmed</td>\n",
       "      <td>K. McMurray, TrackingSharks.com</td>\n",
       "      <td>2018.04.10.R-Paz.pdf</td>\n",
       "      <td>http://sharkattackfile.net/spreadsheets/pdf_di...</td>\n",
       "      <td>http://sharkattackfile.net/spreadsheets/pdf_di...</td>\n",
       "      <td>2018.04.10.R</td>\n",
       "      <td>2018.04.10.R</td>\n",
       "      <td>6272.0</td>\n",
       "      <td>NaN</td>\n",
       "      <td>NaN</td>\n",
       "    </tr>\n",
       "    <tr>\n",
       "      <th>43</th>\n",
       "      <td>2018.02.14</td>\n",
       "      <td>14-Feb-2018</td>\n",
       "      <td>2018.0</td>\n",
       "      <td>Invalid</td>\n",
       "      <td>AUSTRALIA</td>\n",
       "      <td>Queensland</td>\n",
       "      <td>Mooloolaba Beach</td>\n",
       "      <td>Swimming</td>\n",
       "      <td>Sharna Babd</td>\n",
       "      <td>F</td>\n",
       "      <td>NaN</td>\n",
       "      <td>Collision / No injury, no attack</td>\n",
       "      <td>N</td>\n",
       "      <td>18h00</td>\n",
       "      <td>Possibly a wobbegong</td>\n",
       "      <td>Sunshine Coast Daily, 2/15/2018</td>\n",
       "      <td>2018.02.14-Babd.pdf</td>\n",
       "      <td>http://sharkattackfile.net/spreadsheets/pdf_di...</td>\n",
       "      <td>http://sharkattackfile.net/spreadsheets/pdf_di...</td>\n",
       "      <td>2018.02.14</td>\n",
       "      <td>2018.02.14</td>\n",
       "      <td>6260.0</td>\n",
       "      <td>NaN</td>\n",
       "      <td>NaN</td>\n",
       "    </tr>\n",
       "    <tr>\n",
       "      <th>44</th>\n",
       "      <td>2018.02.11</td>\n",
       "      <td>11-Feb-2018</td>\n",
       "      <td>2018.0</td>\n",
       "      <td>Invalid</td>\n",
       "      <td>BRAZIL</td>\n",
       "      <td>Boi Island, Victoria</td>\n",
       "      <td>Espirito Santo</td>\n",
       "      <td>Cleaning fish</td>\n",
       "      <td>Rosalida Souza</td>\n",
       "      <td>F</td>\n",
       "      <td>46</td>\n",
       "      <td>Lacerations to 4 toes of right foot</td>\n",
       "      <td>N</td>\n",
       "      <td>NaN</td>\n",
       "      <td>Injury believed caused by an eel, not a shark</td>\n",
       "      <td>TrackingSharks.com</td>\n",
       "      <td>2018.02.11-Rosilda.pdf</td>\n",
       "      <td>http://sharkattackfile.net/spreadsheets/pdf_di...</td>\n",
       "      <td>http://sharkattackfile.net/spreadsheets/pdf_di...</td>\n",
       "      <td>2018.02.11</td>\n",
       "      <td>2018.02.11</td>\n",
       "      <td>6259.0</td>\n",
       "      <td>NaN</td>\n",
       "      <td>NaN</td>\n",
       "    </tr>\n",
       "    <tr>\n",
       "      <th>...</th>\n",
       "      <td>...</td>\n",
       "      <td>...</td>\n",
       "      <td>...</td>\n",
       "      <td>...</td>\n",
       "      <td>...</td>\n",
       "      <td>...</td>\n",
       "      <td>...</td>\n",
       "      <td>...</td>\n",
       "      <td>...</td>\n",
       "      <td>...</td>\n",
       "      <td>...</td>\n",
       "      <td>...</td>\n",
       "      <td>...</td>\n",
       "      <td>...</td>\n",
       "      <td>...</td>\n",
       "      <td>...</td>\n",
       "      <td>...</td>\n",
       "      <td>...</td>\n",
       "      <td>...</td>\n",
       "      <td>...</td>\n",
       "      <td>...</td>\n",
       "      <td>...</td>\n",
       "      <td>...</td>\n",
       "      <td>...</td>\n",
       "    </tr>\n",
       "    <tr>\n",
       "      <th>6147</th>\n",
       "      <td>1767.00.00</td>\n",
       "      <td>1767</td>\n",
       "      <td>1767.0</td>\n",
       "      <td>Invalid</td>\n",
       "      <td>FRANCE</td>\n",
       "      <td>Côte d'Azur</td>\n",
       "      <td>St. Tropez</td>\n",
       "      <td>Bathing</td>\n",
       "      <td>Samuel Matthews</td>\n",
       "      <td>M</td>\n",
       "      <td>NaN</td>\n",
       "      <td>Lacerations to arm &amp; leg</td>\n",
       "      <td>NaN</td>\n",
       "      <td>NaN</td>\n",
       "      <td>Description of shark does not ring true</td>\n",
       "      <td>NaN</td>\n",
       "      <td>1767.00.00-Matthews.pdf</td>\n",
       "      <td>http://sharkattackfile.net/spreadsheets/pdf_di...</td>\n",
       "      <td>http://sharkattackfile.net/spreadsheets/pdf_di...</td>\n",
       "      <td>1767.00.00</td>\n",
       "      <td>1767.00.00</td>\n",
       "      <td>156.0</td>\n",
       "      <td>NaN</td>\n",
       "      <td>NaN</td>\n",
       "    </tr>\n",
       "    <tr>\n",
       "      <th>6157</th>\n",
       "      <td>1733.00.00</td>\n",
       "      <td>1733</td>\n",
       "      <td>1733.0</td>\n",
       "      <td>Invalid</td>\n",
       "      <td>ICELAND</td>\n",
       "      <td>Bardestrand</td>\n",
       "      <td>Talkknefiord</td>\n",
       "      <td>NaN</td>\n",
       "      <td>NaN</td>\n",
       "      <td>NaN</td>\n",
       "      <td>NaN</td>\n",
       "      <td>Partial hominid remains recovered from shark, ...</td>\n",
       "      <td>NaN</td>\n",
       "      <td>NaN</td>\n",
       "      <td>Shark involvement prior to death unconfirmed</td>\n",
       "      <td>E. Olafsen</td>\n",
       "      <td>1733.00.00-Iceland.pdf</td>\n",
       "      <td>http://sharkattackfile.net/spreadsheets/pdf_di...</td>\n",
       "      <td>http://sharkattackfile.net/spreadsheets/pdf_di...</td>\n",
       "      <td>1733.00.00</td>\n",
       "      <td>1733.00.00</td>\n",
       "      <td>146.0</td>\n",
       "      <td>NaN</td>\n",
       "      <td>NaN</td>\n",
       "    </tr>\n",
       "    <tr>\n",
       "      <th>6164</th>\n",
       "      <td>1642.00.00.b</td>\n",
       "      <td>Late 1600s Reported 1728</td>\n",
       "      <td>1642.0</td>\n",
       "      <td>Invalid</td>\n",
       "      <td>GUINEA</td>\n",
       "      <td>NaN</td>\n",
       "      <td>NaN</td>\n",
       "      <td>Went overboard</td>\n",
       "      <td>crew member of the Nieuwstadt</td>\n",
       "      <td>M</td>\n",
       "      <td>NaN</td>\n",
       "      <td>FATAL</td>\n",
       "      <td>NaN</td>\n",
       "      <td>NaN</td>\n",
       "      <td>Questionable</td>\n",
       "      <td>History of the Pyrates, by D. Defoe, Vol. 2, p.28</td>\n",
       "      <td>1642.00.00.b-Nieuwstadt.pdf</td>\n",
       "      <td>http://sharkattackfile.net/spreadsheets/pdf_di...</td>\n",
       "      <td>http://sharkattackfile.net/spreadsheets/pdf_di...</td>\n",
       "      <td>1642.00.00.b</td>\n",
       "      <td>1642.00.00.b</td>\n",
       "      <td>139.0</td>\n",
       "      <td>NaN</td>\n",
       "      <td>NaN</td>\n",
       "    </tr>\n",
       "    <tr>\n",
       "      <th>6227</th>\n",
       "      <td>ND.0086</td>\n",
       "      <td>No date, Before 1975</td>\n",
       "      <td>0.0</td>\n",
       "      <td>Invalid</td>\n",
       "      <td>PAPUA NEW GUINEA</td>\n",
       "      <td>Milne Bay  Province</td>\n",
       "      <td>D'Entrecasteaux islands, 20 miles off the coast</td>\n",
       "      <td>Scuba diving</td>\n",
       "      <td>Dan Hogan</td>\n",
       "      <td>M</td>\n",
       "      <td>NaN</td>\n",
       "      <td>Said to be fatal and involve a 4.6 m to 6 m [1...</td>\n",
       "      <td>Y</td>\n",
       "      <td>NaN</td>\n",
       "      <td>Questionable</td>\n",
       "      <td>F. Dennis, pp.15-16</td>\n",
       "      <td>ND-0086-DanHogan.pdf</td>\n",
       "      <td>http://sharkattackfile.net/spreadsheets/pdf_di...</td>\n",
       "      <td>http://sharkattackfile.net/spreadsheets/pdf_di...</td>\n",
       "      <td>ND.0086</td>\n",
       "      <td>ND.0086</td>\n",
       "      <td>76.0</td>\n",
       "      <td>NaN</td>\n",
       "      <td>NaN</td>\n",
       "    </tr>\n",
       "    <tr>\n",
       "      <th>6232</th>\n",
       "      <td>ND.0081</td>\n",
       "      <td>No date, Before 1963</td>\n",
       "      <td>0.0</td>\n",
       "      <td>Invalid</td>\n",
       "      <td>USA</td>\n",
       "      <td>Hawaii</td>\n",
       "      <td>Portlock, Oahu</td>\n",
       "      <td>Diving</td>\n",
       "      <td>Val Valentine</td>\n",
       "      <td>M</td>\n",
       "      <td>NaN</td>\n",
       "      <td>A 4.3 m [14'] shark made threat display. No in...</td>\n",
       "      <td>NaN</td>\n",
       "      <td>NaN</td>\n",
       "      <td>Invalid</td>\n",
       "      <td>B. Sojka &amp; D. Lloyd</td>\n",
       "      <td>ND-0081-Valentine.pdf</td>\n",
       "      <td>http://sharkattackfile.net/spreadsheets/pdf_di...</td>\n",
       "      <td>http://sharkattackfile.net/spreadsheets/pdf_di...</td>\n",
       "      <td>ND.0081</td>\n",
       "      <td>ND.0081</td>\n",
       "      <td>71.0</td>\n",
       "      <td>NaN</td>\n",
       "      <td>NaN</td>\n",
       "    </tr>\n",
       "  </tbody>\n",
       "</table>\n",
       "<p>547 rows × 24 columns</p>\n",
       "</div>"
      ],
      "text/plain": [
       "       Case Number                      Date    Year     Type  \\\n",
       "2       2018.06.09               09-Jun-2018  2018.0  Invalid   \n",
       "13    2018.05.13.a               13-May-2018  2018.0  Invalid   \n",
       "31    2018.04.10.R      Reported 10-Apr-2018  2018.0  Invalid   \n",
       "43      2018.02.14               14-Feb-2018  2018.0  Invalid   \n",
       "44      2018.02.11               11-Feb-2018  2018.0  Invalid   \n",
       "...            ...                       ...     ...      ...   \n",
       "6147    1767.00.00                      1767  1767.0  Invalid   \n",
       "6157    1733.00.00                      1733  1733.0  Invalid   \n",
       "6164  1642.00.00.b  Late 1600s Reported 1728  1642.0  Invalid   \n",
       "6227       ND.0086      No date, Before 1975     0.0  Invalid   \n",
       "6232       ND.0081      No date, Before 1963     0.0  Invalid   \n",
       "\n",
       "               Country                  Area  \\\n",
       "2                  USA                Hawaii   \n",
       "13             ENGLAND              Cornwall   \n",
       "31              BRAZIL               Alagoas   \n",
       "43           AUSTRALIA            Queensland   \n",
       "44              BRAZIL  Boi Island, Victoria   \n",
       "...                ...                   ...   \n",
       "6147            FRANCE          Côte d'Azur    \n",
       "6157           ICELAND           Bardestrand   \n",
       "6164            GUINEA                   NaN   \n",
       "6227  PAPUA NEW GUINEA   Milne Bay  Province   \n",
       "6232               USA                Hawaii   \n",
       "\n",
       "                                              Location        Activity  \\\n",
       "2                                         Habush, Oahu         Surfing   \n",
       "13                                      Off Land's End         Fishing   \n",
       "31                           Praia de Sauaçuhy, Maceió         Fishing   \n",
       "43                                    Mooloolaba Beach        Swimming   \n",
       "44                                      Espirito Santo   Cleaning fish   \n",
       "...                                                ...             ...   \n",
       "6147                                        St. Tropez         Bathing   \n",
       "6157                                      Talkknefiord             NaN   \n",
       "6164                                               NaN  Went overboard   \n",
       "6227   D'Entrecasteaux islands, 20 miles off the coast    Scuba diving   \n",
       "6232                                    Portlock, Oahu          Diving   \n",
       "\n",
       "                               Name Sex   Age  \\\n",
       "2                       John Denges    M   48   \n",
       "13                     Max Berryman    M   21   \n",
       "31                       Josias Paz    M   56   \n",
       "43                      Sharna Babd    F  NaN   \n",
       "44                   Rosalida Souza    F   46   \n",
       "...                             ...  ...  ...   \n",
       "6147                Samuel Matthews    M  NaN   \n",
       "6157                            NaN  NaN  NaN   \n",
       "6164  crew member of the Nieuwstadt    M  NaN   \n",
       "6227                      Dan Hogan    M  NaN   \n",
       "6232                  Val Valentine    M  NaN   \n",
       "\n",
       "                                                 Injury Fatal (Y/N)   Time  \\\n",
       "2          Injury to left lower leg from surfboard skeg           N  07h45   \n",
       "13    Injured by teeth of a dead porbeagle shark he ...           N  08h15   \n",
       "31    Injury to ankle from marine animal trapped in ...           N    NaN   \n",
       "43                     Collision / No injury, no attack           N  18h00   \n",
       "44                  Lacerations to 4 toes of right foot           N    NaN   \n",
       "...                                                 ...         ...    ...   \n",
       "6147                           Lacerations to arm & leg         NaN    NaN   \n",
       "6157  Partial hominid remains recovered from shark, ...         NaN    NaN   \n",
       "6164                                              FATAL         NaN    NaN   \n",
       "6227  Said to be fatal and involve a 4.6 m to 6 m [1...           Y    NaN   \n",
       "6232  A 4.3 m [14'] shark made threat display. No in...         NaN    NaN   \n",
       "\n",
       "                                           Species   \\\n",
       "2                                               NaN   \n",
       "13                                 Invalid incident   \n",
       "31                  Shark involvement not confirmed   \n",
       "43                             Possibly a wobbegong   \n",
       "44    Injury believed caused by an eel, not a shark   \n",
       "...                                             ...   \n",
       "6147        Description of shark does not ring true   \n",
       "6157   Shark involvement prior to death unconfirmed   \n",
       "6164                                   Questionable   \n",
       "6227                                   Questionable   \n",
       "6232                                        Invalid   \n",
       "\n",
       "                                 Investigator or Source  \\\n",
       "2                        K.McMurray, TrackingSharks.com   \n",
       "13                      K. McMurray, TrackingSharks.com   \n",
       "31                      K. McMurray, TrackingSharks.com   \n",
       "43                      Sunshine Coast Daily, 2/15/2018   \n",
       "44                                   TrackingSharks.com   \n",
       "...                                                 ...   \n",
       "6147                                                NaN   \n",
       "6157                                         E. Olafsen   \n",
       "6164  History of the Pyrates, by D. Defoe, Vol. 2, p.28   \n",
       "6227                                F. Dennis, pp.15-16   \n",
       "6232                                B. Sojka & D. Lloyd   \n",
       "\n",
       "                              pdf  \\\n",
       "2           2018.06.09-Denges.pdf   \n",
       "13      2018.05.13.a-Berryman.pdf   \n",
       "31           2018.04.10.R-Paz.pdf   \n",
       "43            2018.02.14-Babd.pdf   \n",
       "44         2018.02.11-Rosilda.pdf   \n",
       "...                           ...   \n",
       "6147      1767.00.00-Matthews.pdf   \n",
       "6157       1733.00.00-Iceland.pdf   \n",
       "6164  1642.00.00.b-Nieuwstadt.pdf   \n",
       "6227         ND-0086-DanHogan.pdf   \n",
       "6232        ND-0081-Valentine.pdf   \n",
       "\n",
       "                                           href formula  \\\n",
       "2     http://sharkattackfile.net/spreadsheets/pdf_di...   \n",
       "13    http://sharkattackfile.net/spreadsheets/pdf_di...   \n",
       "31    http://sharkattackfile.net/spreadsheets/pdf_di...   \n",
       "43    http://sharkattackfile.net/spreadsheets/pdf_di...   \n",
       "44    http://sharkattackfile.net/spreadsheets/pdf_di...   \n",
       "...                                                 ...   \n",
       "6147  http://sharkattackfile.net/spreadsheets/pdf_di...   \n",
       "6157  http://sharkattackfile.net/spreadsheets/pdf_di...   \n",
       "6164  http://sharkattackfile.net/spreadsheets/pdf_di...   \n",
       "6227  http://sharkattackfile.net/spreadsheets/pdf_di...   \n",
       "6232  http://sharkattackfile.net/spreadsheets/pdf_di...   \n",
       "\n",
       "                                                   href Case Number.1  \\\n",
       "2     http://sharkattackfile.net/spreadsheets/pdf_di...    2018.06.09   \n",
       "13    http://sharkattackfile.net/spreadsheets/pdf_di...  2018.05.13.a   \n",
       "31    http://sharkattackfile.net/spreadsheets/pdf_di...  2018.04.10.R   \n",
       "43    http://sharkattackfile.net/spreadsheets/pdf_di...    2018.02.14   \n",
       "44    http://sharkattackfile.net/spreadsheets/pdf_di...    2018.02.11   \n",
       "...                                                 ...           ...   \n",
       "6147  http://sharkattackfile.net/spreadsheets/pdf_di...    1767.00.00   \n",
       "6157  http://sharkattackfile.net/spreadsheets/pdf_di...    1733.00.00   \n",
       "6164  http://sharkattackfile.net/spreadsheets/pdf_di...  1642.00.00.b   \n",
       "6227  http://sharkattackfile.net/spreadsheets/pdf_di...       ND.0086   \n",
       "6232  http://sharkattackfile.net/spreadsheets/pdf_di...       ND.0081   \n",
       "\n",
       "     Case Number.2  original order Unnamed: 22 Unnamed: 23  \n",
       "2       2018.06.09          6301.0         NaN         NaN  \n",
       "13    2018.05.13.a          6290.0         NaN         NaN  \n",
       "31    2018.04.10.R          6272.0         NaN         NaN  \n",
       "43      2018.02.14          6260.0         NaN         NaN  \n",
       "44      2018.02.11          6259.0         NaN         NaN  \n",
       "...            ...             ...         ...         ...  \n",
       "6147    1767.00.00           156.0         NaN         NaN  \n",
       "6157    1733.00.00           146.0         NaN         NaN  \n",
       "6164  1642.00.00.b           139.0         NaN         NaN  \n",
       "6227       ND.0086            76.0         NaN         NaN  \n",
       "6232       ND.0081            71.0         NaN         NaN  \n",
       "\n",
       "[547 rows x 24 columns]"
      ]
     },
     "execution_count": 32,
     "metadata": {},
     "output_type": "execute_result"
    }
   ],
   "source": [
    "shark_attacks[shark_attacks['Type'] == 'Invalid']\n",
    "\n",
    "# Analyzing the column when Invalid was input as Type, "
   ]
  },
  {
   "cell_type": "code",
   "execution_count": null,
   "metadata": {},
   "outputs": [],
   "source": []
  },
  {
   "cell_type": "markdown",
   "metadata": {
    "heading_collapsed": true
   },
   "source": [
    "## Plotting"
   ]
  },
  {
   "cell_type": "code",
   "execution_count": 24,
   "metadata": {
    "ExecuteTime": {
     "end_time": "2021-01-25T12:25:32.250249Z",
     "start_time": "2021-01-25T12:25:32.248236Z"
    },
    "hidden": true
   },
   "outputs": [],
   "source": [
    "#s1 = pd.Series(['a', 'b', 'a', 'c', 'a', 'b'])\n",
    "#s2 = pd.Series(['a', 'f', 'a', 'd', 'a', 'f', 'f'])\n",
    "#d = pd.DataFrame({'s1': s1, 's2': s2})\n",
    "#d.apply(pd.value_counts).plot(kind='bar', subplots=True)"
   ]
  },
  {
   "cell_type": "code",
   "execution_count": null,
   "metadata": {
    "hidden": true
   },
   "outputs": [],
   "source": []
  }
 ],
 "metadata": {
  "kernelspec": {
   "display_name": "Python 3",
   "language": "python",
   "name": "python3"
  },
  "language_info": {
   "codemirror_mode": {
    "name": "ipython",
    "version": 3
   },
   "file_extension": ".py",
   "mimetype": "text/x-python",
   "name": "python",
   "nbconvert_exporter": "python",
   "pygments_lexer": "ipython3",
   "version": "3.9.0"
  },
  "toc": {
   "base_numbering": 1,
   "nav_menu": {},
   "number_sections": true,
   "sideBar": true,
   "skip_h1_title": false,
   "title_cell": "Table of Contents",
   "title_sidebar": "Contents",
   "toc_cell": false,
   "toc_position": {
    "height": "calc(100% - 180px)",
    "left": "10px",
    "top": "150px",
    "width": "384px"
   },
   "toc_section_display": true,
   "toc_window_display": true
  },
  "varInspector": {
   "cols": {
    "lenName": 16,
    "lenType": 16,
    "lenVar": 40
   },
   "kernels_config": {
    "python": {
     "delete_cmd_postfix": "",
     "delete_cmd_prefix": "del ",
     "library": "var_list.py",
     "varRefreshCmd": "print(var_dic_list())"
    },
    "r": {
     "delete_cmd_postfix": ") ",
     "delete_cmd_prefix": "rm(",
     "library": "var_list.r",
     "varRefreshCmd": "cat(var_dic_list()) "
    }
   },
   "types_to_exclude": [
    "module",
    "function",
    "builtin_function_or_method",
    "instance",
    "_Feature"
   ],
   "window_display": false
  }
 },
 "nbformat": 4,
 "nbformat_minor": 4
}
